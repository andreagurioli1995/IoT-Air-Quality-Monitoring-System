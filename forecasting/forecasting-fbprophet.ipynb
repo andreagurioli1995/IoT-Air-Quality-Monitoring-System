{
  "cells": [
    {
      "cell_type": "markdown",
      "metadata": {
        "id": "view-in-github",
        "colab_type": "text"
      },
      "source": [
        "<a href=\"https://colab.research.google.com/github/andreagurioli1995/IoT-Air-Quality-Monitoring-System/blob/stable/forecasting/forecasting-fbprophet.ipynb\" target=\"_parent\"><img src=\"https://colab.research.google.com/assets/colab-badge.svg\" alt=\"Open In Colab\"/></a>"
      ]
    },
    {
      "cell_type": "code",
      "execution_count": 20,
      "metadata": {
        "id": "ok1ZYoOlX0gz"
      },
      "outputs": [],
      "source": [
        "import os\n",
        "import datetime\n",
        "import IPython\n",
        "import IPython.display\n",
        "import matplotlib as mpl\n",
        "import matplotlib.pyplot as plt\n",
        "import numpy as np\n",
        "import pandas as pd\n",
        "import seaborn as sns"
      ]
    },
    {
      "cell_type": "code",
      "source": [
        "dataset_path = \"/content/temp.csv\"\n",
        "df = pd.read_csv(dataset_path)\n",
        "df[\"409151bfa0cc\"]= pd.DatetimeIndex(df[\"409151bfa0cc\"])\n",
        "df.rename(columns={'409151bfa0cc':'ds','409151bfa0cc.1':'y'},inplace=True)"
      ],
      "metadata": {
        "id": "yEZEGVqK3Ows"
      },
      "execution_count": 22,
      "outputs": []
    },
    {
      "cell_type": "code",
      "source": [
        "df.head()"
      ],
      "metadata": {
        "colab": {
          "base_uri": "https://localhost:8080/",
          "height": 206
        },
        "id": "MEVL1NiG3eQr",
        "outputId": "536212dc-d4e9-4d31-999b-04f091c8db3e"
      },
      "execution_count": 23,
      "outputs": [
        {
          "output_type": "execute_result",
          "data": {
            "text/plain": [
              "                   ds     y\n",
              "0 2022-06-05 23:02:52  28.2\n",
              "1 2022-06-05 23:02:54  28.2\n",
              "2 2022-06-05 23:02:57  28.1\n",
              "3 2022-06-05 23:02:59  28.2\n",
              "4 2022-06-05 23:03:02  28.2"
            ],
            "text/html": [
              "\n",
              "  <div id=\"df-55fd36e8-9b1a-44d0-b6c6-5e68550f1568\">\n",
              "    <div class=\"colab-df-container\">\n",
              "      <div>\n",
              "<style scoped>\n",
              "    .dataframe tbody tr th:only-of-type {\n",
              "        vertical-align: middle;\n",
              "    }\n",
              "\n",
              "    .dataframe tbody tr th {\n",
              "        vertical-align: top;\n",
              "    }\n",
              "\n",
              "    .dataframe thead th {\n",
              "        text-align: right;\n",
              "    }\n",
              "</style>\n",
              "<table border=\"1\" class=\"dataframe\">\n",
              "  <thead>\n",
              "    <tr style=\"text-align: right;\">\n",
              "      <th></th>\n",
              "      <th>ds</th>\n",
              "      <th>y</th>\n",
              "    </tr>\n",
              "  </thead>\n",
              "  <tbody>\n",
              "    <tr>\n",
              "      <th>0</th>\n",
              "      <td>2022-06-05 23:02:52</td>\n",
              "      <td>28.2</td>\n",
              "    </tr>\n",
              "    <tr>\n",
              "      <th>1</th>\n",
              "      <td>2022-06-05 23:02:54</td>\n",
              "      <td>28.2</td>\n",
              "    </tr>\n",
              "    <tr>\n",
              "      <th>2</th>\n",
              "      <td>2022-06-05 23:02:57</td>\n",
              "      <td>28.1</td>\n",
              "    </tr>\n",
              "    <tr>\n",
              "      <th>3</th>\n",
              "      <td>2022-06-05 23:02:59</td>\n",
              "      <td>28.2</td>\n",
              "    </tr>\n",
              "    <tr>\n",
              "      <th>4</th>\n",
              "      <td>2022-06-05 23:03:02</td>\n",
              "      <td>28.2</td>\n",
              "    </tr>\n",
              "  </tbody>\n",
              "</table>\n",
              "</div>\n",
              "      <button class=\"colab-df-convert\" onclick=\"convertToInteractive('df-55fd36e8-9b1a-44d0-b6c6-5e68550f1568')\"\n",
              "              title=\"Convert this dataframe to an interactive table.\"\n",
              "              style=\"display:none;\">\n",
              "        \n",
              "  <svg xmlns=\"http://www.w3.org/2000/svg\" height=\"24px\"viewBox=\"0 0 24 24\"\n",
              "       width=\"24px\">\n",
              "    <path d=\"M0 0h24v24H0V0z\" fill=\"none\"/>\n",
              "    <path d=\"M18.56 5.44l.94 2.06.94-2.06 2.06-.94-2.06-.94-.94-2.06-.94 2.06-2.06.94zm-11 1L8.5 8.5l.94-2.06 2.06-.94-2.06-.94L8.5 2.5l-.94 2.06-2.06.94zm10 10l.94 2.06.94-2.06 2.06-.94-2.06-.94-.94-2.06-.94 2.06-2.06.94z\"/><path d=\"M17.41 7.96l-1.37-1.37c-.4-.4-.92-.59-1.43-.59-.52 0-1.04.2-1.43.59L10.3 9.45l-7.72 7.72c-.78.78-.78 2.05 0 2.83L4 21.41c.39.39.9.59 1.41.59.51 0 1.02-.2 1.41-.59l7.78-7.78 2.81-2.81c.8-.78.8-2.07 0-2.86zM5.41 20L4 18.59l7.72-7.72 1.47 1.35L5.41 20z\"/>\n",
              "  </svg>\n",
              "      </button>\n",
              "      \n",
              "  <style>\n",
              "    .colab-df-container {\n",
              "      display:flex;\n",
              "      flex-wrap:wrap;\n",
              "      gap: 12px;\n",
              "    }\n",
              "\n",
              "    .colab-df-convert {\n",
              "      background-color: #E8F0FE;\n",
              "      border: none;\n",
              "      border-radius: 50%;\n",
              "      cursor: pointer;\n",
              "      display: none;\n",
              "      fill: #1967D2;\n",
              "      height: 32px;\n",
              "      padding: 0 0 0 0;\n",
              "      width: 32px;\n",
              "    }\n",
              "\n",
              "    .colab-df-convert:hover {\n",
              "      background-color: #E2EBFA;\n",
              "      box-shadow: 0px 1px 2px rgba(60, 64, 67, 0.3), 0px 1px 3px 1px rgba(60, 64, 67, 0.15);\n",
              "      fill: #174EA6;\n",
              "    }\n",
              "\n",
              "    [theme=dark] .colab-df-convert {\n",
              "      background-color: #3B4455;\n",
              "      fill: #D2E3FC;\n",
              "    }\n",
              "\n",
              "    [theme=dark] .colab-df-convert:hover {\n",
              "      background-color: #434B5C;\n",
              "      box-shadow: 0px 1px 3px 1px rgba(0, 0, 0, 0.15);\n",
              "      filter: drop-shadow(0px 1px 2px rgba(0, 0, 0, 0.3));\n",
              "      fill: #FFFFFF;\n",
              "    }\n",
              "  </style>\n",
              "\n",
              "      <script>\n",
              "        const buttonEl =\n",
              "          document.querySelector('#df-55fd36e8-9b1a-44d0-b6c6-5e68550f1568 button.colab-df-convert');\n",
              "        buttonEl.style.display =\n",
              "          google.colab.kernel.accessAllowed ? 'block' : 'none';\n",
              "\n",
              "        async function convertToInteractive(key) {\n",
              "          const element = document.querySelector('#df-55fd36e8-9b1a-44d0-b6c6-5e68550f1568');\n",
              "          const dataTable =\n",
              "            await google.colab.kernel.invokeFunction('convertToInteractive',\n",
              "                                                     [key], {});\n",
              "          if (!dataTable) return;\n",
              "\n",
              "          const docLinkHtml = 'Like what you see? Visit the ' +\n",
              "            '<a target=\"_blank\" href=https://colab.research.google.com/notebooks/data_table.ipynb>data table notebook</a>'\n",
              "            + ' to learn more about interactive tables.';\n",
              "          element.innerHTML = '';\n",
              "          dataTable['output_type'] = 'display_data';\n",
              "          await google.colab.output.renderOutput(dataTable, element);\n",
              "          const docLink = document.createElement('div');\n",
              "          docLink.innerHTML = docLinkHtml;\n",
              "          element.appendChild(docLink);\n",
              "        }\n",
              "      </script>\n",
              "    </div>\n",
              "  </div>\n",
              "  "
            ]
          },
          "metadata": {},
          "execution_count": 23
        }
      ]
    },
    {
      "cell_type": "code",
      "source": [
        "#evolution over time of our data\n",
        "plot_cols = ['y']\n",
        "plot_features = df[plot_cols]\n",
        "_ = plot_features.plot(subplots=True)\n",
        "\n"
      ],
      "metadata": {
        "colab": {
          "base_uri": "https://localhost:8080/",
          "height": 265
        },
        "id": "tKn0xnRo4XDd",
        "outputId": "f5a2843d-a43b-43ea-a47b-5398db3e38e1"
      },
      "execution_count": 24,
      "outputs": [
        {
          "output_type": "display_data",
          "data": {
            "text/plain": [
              "<Figure size 432x288 with 1 Axes>"
            ],
            "image/png": "[encoded data removed]"
          },
          "metadata": {
            "needs_background": "light"
          }
        }
      ]
    },
    {
      "cell_type": "code",
      "source": [
        "df.describe().transpose()"
      ],
      "metadata": {
        "colab": {
          "base_uri": "https://localhost:8080/",
          "height": 81
        },
        "id": "aHBytLqO5cp2",
        "outputId": "1297c95c-4647-4fab-9f99-be67b8a0dab2"
      },
      "execution_count": 25,
      "outputs": [
        {
          "output_type": "execute_result",
          "data": {
            "text/plain": [
              "   count       mean       std   min   25%   50%   75%   max\n",
              "y  118.0  28.155085  0.049953  28.1  28.1  28.2  28.2  28.2"
            ],
            "text/html": [
              "\n",
              "  <div id=\"df-98945acb-98fd-4432-8133-c54f06ef1824\">\n",
              "    <div class=\"colab-df-container\">\n",
              "      <div>\n",
              "<style scoped>\n",
              "    .dataframe tbody tr th:only-of-type {\n",
              "        vertical-align: middle;\n",
              "    }\n",
              "\n",
              "    .dataframe tbody tr th {\n",
              "        vertical-align: top;\n",
              "    }\n",
              "\n",
              "    .dataframe thead th {\n",
              "        text-align: right;\n",
              "    }\n",
              "</style>\n",
              "<table border=\"1\" class=\"dataframe\">\n",
              "  <thead>\n",
              "    <tr style=\"text-align: right;\">\n",
              "      <th></th>\n",
              "      <th>count</th>\n",
              "      <th>mean</th>\n",
              "      <th>std</th>\n",
              "      <th>min</th>\n",
              "      <th>25%</th>\n",
              "      <th>50%</th>\n",
              "      <th>75%</th>\n",
              "      <th>max</th>\n",
              "    </tr>\n",
              "  </thead>\n",
              "  <tbody>\n",
              "    <tr>\n",
              "      <th>y</th>\n",
              "      <td>118.0</td>\n",
              "      <td>28.155085</td>\n",
              "      <td>0.049953</td>\n",
              "      <td>28.1</td>\n",
              "      <td>28.1</td>\n",
              "      <td>28.2</td>\n",
              "      <td>28.2</td>\n",
              "      <td>28.2</td>\n",
              "    </tr>\n",
              "  </tbody>\n",
              "</table>\n",
              "</div>\n",
              "      <button class=\"colab-df-convert\" onclick=\"convertToInteractive('df-98945acb-98fd-4432-8133-c54f06ef1824')\"\n",
              "              title=\"Convert this dataframe to an interactive table.\"\n",
              "              style=\"display:none;\">\n",
              "        \n",
              "  <svg xmlns=\"http://www.w3.org/2000/svg\" height=\"24px\"viewBox=\"0 0 24 24\"\n",
              "       width=\"24px\">\n",
              "    <path d=\"M0 0h24v24H0V0z\" fill=\"none\"/>\n",
              "    <path d=\"M18.56 5.44l.94 2.06.94-2.06 2.06-.94-2.06-.94-.94-2.06-.94 2.06-2.06.94zm-11 1L8.5 8.5l.94-2.06 2.06-.94-2.06-.94L8.5 2.5l-.94 2.06-2.06.94zm10 10l.94 2.06.94-2.06 2.06-.94-2.06-.94-.94-2.06-.94 2.06-2.06.94z\"/><path d=\"M17.41 7.96l-1.37-1.37c-.4-.4-.92-.59-1.43-.59-.52 0-1.04.2-1.43.59L10.3 9.45l-7.72 7.72c-.78.78-.78 2.05 0 2.83L4 21.41c.39.39.9.59 1.41.59.51 0 1.02-.2 1.41-.59l7.78-7.78 2.81-2.81c.8-.78.8-2.07 0-2.86zM5.41 20L4 18.59l7.72-7.72 1.47 1.35L5.41 20z\"/>\n",
              "  </svg>\n",
              "      </button>\n",
              "      \n",
              "  <style>\n",
              "    .colab-df-container {\n",
              "      display:flex;\n",
              "      flex-wrap:wrap;\n",
              "      gap: 12px;\n",
              "    }\n",
              "\n",
              "    .colab-df-convert {\n",
              "      background-color: #E8F0FE;\n",
              "      border: none;\n",
              "      border-radius: 50%;\n",
              "      cursor: pointer;\n",
              "      display: none;\n",
              "      fill: #1967D2;\n",
              "      height: 32px;\n",
              "      padding: 0 0 0 0;\n",
              "      width: 32px;\n",
              "    }\n",
              "\n",
              "    .colab-df-convert:hover {\n",
              "      background-color: #E2EBFA;\n",
              "      box-shadow: 0px 1px 2px rgba(60, 64, 67, 0.3), 0px 1px 3px 1px rgba(60, 64, 67, 0.15);\n",
              "      fill: #174EA6;\n",
              "    }\n",
              "\n",
              "    [theme=dark] .colab-df-convert {\n",
              "      background-color: #3B4455;\n",
              "      fill: #D2E3FC;\n",
              "    }\n",
              "\n",
              "    [theme=dark] .colab-df-convert:hover {\n",
              "      background-color: #434B5C;\n",
              "      box-shadow: 0px 1px 3px 1px rgba(0, 0, 0, 0.15);\n",
              "      filter: drop-shadow(0px 1px 2px rgba(0, 0, 0, 0.3));\n",
              "      fill: #FFFFFF;\n",
              "    }\n",
              "  </style>\n",
              "\n",
              "      <script>\n",
              "        const buttonEl =\n",
              "          document.querySelector('#df-98945acb-98fd-4432-8133-c54f06ef1824 button.colab-df-convert');\n",
              "        buttonEl.style.display =\n",
              "          google.colab.kernel.accessAllowed ? 'block' : 'none';\n",
              "\n",
              "        async function convertToInteractive(key) {\n",
              "          const element = document.querySelector('#df-98945acb-98fd-4432-8133-c54f06ef1824');\n",
              "          const dataTable =\n",
              "            await google.colab.kernel.invokeFunction('convertToInteractive',\n",
              "                                                     [key], {});\n",
              "          if (!dataTable) return;\n",
              "\n",
              "          const docLinkHtml = 'Like what you see? Visit the ' +\n",
              "            '<a target=\"_blank\" href=https://colab.research.google.com/notebooks/data_table.ipynb>data table notebook</a>'\n",
              "            + ' to learn more about interactive tables.';\n",
              "          element.innerHTML = '';\n",
              "          dataTable['output_type'] = 'display_data';\n",
              "          await google.colab.output.renderOutput(dataTable, element);\n",
              "          const docLink = document.createElement('div');\n",
              "          docLink.innerHTML = docLinkHtml;\n",
              "          element.appendChild(docLink);\n",
              "        }\n",
              "      </script>\n",
              "    </div>\n",
              "  </div>\n",
              "  "
            ]
          },
          "metadata": {},
          "execution_count": 25
        }
      ]
    },
    {
      "cell_type": "code",
      "source": [
        "nrows = (len(df.values))\n",
        "splitPoint = int (nrows * 0.60)\n",
        "train = df['y'] [:splitPoint]\n",
        "test = df ['y'] [splitPoint: ]"
      ],
      "metadata": {
        "id": "rExbYodZWgNb"
      },
      "execution_count": 35,
      "outputs": []
    },
    {
      "cell_type": "markdown",
      "source": [
        "Check for stationarity "
      ],
      "metadata": {
        "id": "EijrLNzNcQQX"
      }
    },
    {
      "cell_type": "code",
      "source": [
        " #Step 3: Check whether the time-series is stationary through the Dickey-Fuller test\n",
        "from statsmodels.tsa.stattools import adfuller\n",
        "result = adfuller(train)\n",
        "\n",
        "print('ADF Statistic: %f' % result[0])\n",
        "\n",
        "print('p-value: %f' % result[1])"
      ],
      "metadata": {
        "id": "uDjqEB3WcOJ1",
        "outputId": "ecdd0e72-5c49-4903-a3a8-cc172c12a2f0",
        "colab": {
          "base_uri": "https://localhost:8080/"
        }
      },
      "execution_count": 36,
      "outputs": [
        {
          "output_type": "stream",
          "name": "stdout",
          "text": [
            "ADF Statistic: -0.539168\n",
            "p-value: 0.884144\n"
          ]
        }
      ]
    },
    {
      "cell_type": "code",
      "source": [
        "train_new = train.diff().dropna()\n",
        "\n",
        "result = adfuller(train_new)\n",
        "\n",
        "print('ADF Statistic: %f' % result[0])\n",
        "\n",
        "print('p-value: %f' % result[1])"
      ],
      "metadata": {
        "id": "VF-2hbHnct40",
        "outputId": "76e51d22-461e-4bf9-d2c6-5a7a66aaf4f9",
        "colab": {
          "base_uri": "https://localhost:8080/"
        }
      },
      "execution_count": 37,
      "outputs": [
        {
          "output_type": "stream",
          "name": "stdout",
          "text": [
            "ADF Statistic: -3.644909\n",
            "p-value: 0.004958\n"
          ]
        }
      ]
    },
    {
      "cell_type": "code",
      "source": [
        "from statsmodels.graphics import tsaplots\n",
        "fig = tsaplots.plot_acf(train_new, lags=10)\n",
        "plt.show()"
      ],
      "metadata": {
        "id": "uxU3f2VWc8iV",
        "outputId": "160967fd-22bc-42f6-e078-c012eb08c51a",
        "colab": {
          "base_uri": "https://localhost:8080/",
          "height": 281
        }
      },
      "execution_count": 38,
      "outputs": [
        {
          "output_type": "display_data",
          "data": {
            "text/plain": [
              "<Figure size 432x288 with 1 Axes>"
            ],
            "image/png": "[encoded data removed]"
          },
          "metadata": {
            "needs_background": "light"
          }
        }
      ]
    },
    {
      "cell_type": "code",
      "source": [
        "fig = tsaplots.plot_pacf(train_new, lags=10)\n",
        "plt.show()"
      ],
      "metadata": {
        "id": "r7n3lZBedz1P",
        "outputId": "c072587a-5703-443a-df1a-81fe2f708e9a",
        "colab": {
          "base_uri": "https://localhost:8080/",
          "height": 281
        }
      },
      "execution_count": 39,
      "outputs": [
        {
          "output_type": "display_data",
          "data": {
            "text/plain": [
              "<Figure size 432x288 with 1 Axes>"
            ],
            "image/png": "[encoded data removed]"
          },
          "metadata": {
            "needs_background": "light"
          }
        }
      ]
    },
    {
      "cell_type": "code",
      "source": [
        "#Step 6; Apply ARIMA model\n",
        "from statsmodels.tsa.arima_model import ARIMA\n",
        "history = [x for x in train]\n",
        "predictions = list()\n",
        "print(test)\n",
        "for t in test.index:\n",
        "  model = ARIMA(history, order=(1,1,1))\n",
        "  model_fit = model.fit()\n",
        "  output = model_fit.forecast()\n",
        "  yest = output[0]\n",
        "  predictions.append(yest)\n",
        "  obs= test[t]\n",
        "  history.append(obs)\n",
        "  print ('predicted=%f, expected=%f' % (yest, obs))"
      ],
      "metadata": {
        "id": "NR3V2mx8d7p-",
        "outputId": "ca9cfcd8-7b97-4151-e688-43ed44bdc2d2",
        "colab": {
          "base_uri": "https://localhost:8080/"
        }
      },
      "execution_count": 49,
      "outputs": [
        {
          "output_type": "stream",
          "name": "stdout",
          "text": [
            "70     28.1\n",
            "71     28.1\n",
            "72     28.2\n",
            "73     28.1\n",
            "74     28.1\n",
            "75     28.1\n",
            "76     28.1\n",
            "77     28.1\n",
            "78     28.1\n",
            "79     28.1\n",
            "80     28.1\n",
            "81     28.1\n",
            "82     28.1\n",
            "83     28.1\n",
            "84     28.1\n",
            "85     28.1\n",
            "86     28.1\n",
            "87     28.1\n",
            "88     28.1\n",
            "89     28.1\n",
            "90     28.1\n",
            "91     28.1\n",
            "92     28.1\n",
            "93     28.1\n",
            "94     28.1\n",
            "95     28.1\n",
            "96     28.1\n",
            "97     28.1\n",
            "98     28.1\n",
            "99     28.1\n",
            "100    28.1\n",
            "101    28.1\n",
            "102    28.1\n",
            "103    28.1\n",
            "104    28.1\n",
            "105    28.1\n",
            "106    28.1\n",
            "107    28.1\n",
            "108    28.1\n",
            "109    28.1\n",
            "110    28.1\n",
            "111    28.1\n",
            "112    28.1\n",
            "113    28.1\n",
            "114    28.1\n",
            "115    28.1\n",
            "116    28.1\n",
            "117    28.1\n",
            "Name: y, dtype: float64\n",
            "predicted=28.167454, expected=28.100000\n",
            "predicted=28.132606, expected=28.100000\n",
            "predicted=28.122595, expected=28.200000\n",
            "predicted=28.148761, expected=28.100000\n",
            "predicted=28.133078, expected=28.100000\n",
            "predicted=28.123689, expected=28.100000\n",
            "predicted=28.116686, expected=28.100000\n",
            "predicted=28.111365, expected=28.100000\n",
            "predicted=28.107364, expected=28.100000\n",
            "predicted=28.104386, expected=28.100000\n",
            "predicted=28.102177, expected=28.100000\n",
            "predicted=28.100536, expected=28.100000\n",
            "predicted=28.099314, expected=28.100000\n",
            "predicted=28.098401, expected=28.100000\n",
            "predicted=28.097720, expected=28.100000\n",
            "predicted=28.097212, expected=28.100000\n",
            "predicted=28.096835, expected=28.100000\n",
            "predicted=28.096560, expected=28.100000\n",
            "predicted=28.096362, expected=28.100000\n",
            "predicted=28.096222, expected=28.100000\n",
            "predicted=28.096128, expected=28.100000\n",
            "predicted=28.096069, expected=28.100000\n",
            "predicted=28.096036, expected=28.100000\n",
            "predicted=28.096023, expected=28.100000\n",
            "predicted=28.096026, expected=28.100000\n",
            "predicted=28.096039, expected=28.100000\n",
            "predicted=28.096061, expected=28.100000\n",
            "predicted=28.096089, expected=28.100000\n",
            "predicted=28.096121, expected=28.100000\n",
            "predicted=28.096157, expected=28.100000\n",
            "predicted=28.096194, expected=28.100000\n",
            "predicted=28.096233, expected=28.100000\n",
            "predicted=28.096272, expected=28.100000\n",
            "predicted=28.096312, expected=28.100000\n",
            "predicted=28.096351, expected=28.100000\n",
            "predicted=28.096391, expected=28.100000\n",
            "predicted=28.096430, expected=28.100000\n",
            "predicted=28.096468, expected=28.100000\n",
            "predicted=28.096507, expected=28.100000\n",
            "predicted=28.096544, expected=28.100000\n",
            "predicted=28.096581, expected=28.100000\n",
            "predicted=28.096617, expected=28.100000\n",
            "predicted=28.096652, expected=28.100000\n",
            "predicted=28.096687, expected=28.100000\n",
            "predicted=28.096721, expected=28.100000\n",
            "predicted=28.096754, expected=28.100000\n",
            "predicted=28.096787, expected=28.100000\n",
            "predicted=28.096819, expected=28.100000\n"
          ]
        }
      ]
    },
    {
      "cell_type": "code",
      "source": [
        "import math\n",
        "from sklearn.metrics import mean_squared_error\n",
        "\n",
        "rmse = math.sqrt(mean_squared_error(test, predictions))\n",
        "print('Test RMSE: %.3f'% rmse)\n",
        "\n",
        "df2 = pd. DataFrame (predictions)\n",
        "df2. set_index(test.index, inplace=True)\n",
        "plt.plot(test)\n",
        "plt.plot(df2, color='red')\n",
        "plt.show()"
      ],
      "metadata": {
        "id": "llGspgKFg5Uk",
        "outputId": "c5e4e6d2-4ead-45c2-c0c1-337e15e95327",
        "colab": {
          "base_uri": "https://localhost:8080/",
          "height": 282
        }
      },
      "execution_count": 50,
      "outputs": [
        {
          "output_type": "stream",
          "name": "stdout",
          "text": [
            "Test RMSE: 0.019\n"
          ]
        },
        {
          "output_type": "display_data",
          "data": {
            "text/plain": [
              "<Figure size 432x288 with 1 Axes>"
            ],
            "image/png": "[encoded data removed]"
          },
          "metadata": {
            "needs_background": "light"
          }
        }
      ]
    }
  ],
  "metadata": {
    "interpreter": {
      "hash": "6ab6f325c139420c901eb2a338a56d1814c8c09a35ae652d680ca2cefe53e16a"
    },
    "kernelspec": {
      "display_name": "Python 3.7.6 ('base')",
      "language": "python",
      "name": "python3"
    },
    "language_info": {
      "codemirror_mode": {
        "name": "ipython",
        "version": 3
      },
      "file_extension": ".py",
      "mimetype": "text/x-python",
      "name": "python",
      "nbconvert_exporter": "python",
      "pygments_lexer": "ipython3",
      "version": "3.7.6"
    },
    "orig_nbformat": 4,
    "colab": {
      "name": "forecasting.ipynb",
      "provenance": [],
      "collapsed_sections": [],
      "include_colab_link": true
    }
  },
  "nbformat": 4,
  "nbformat_minor": 0
}