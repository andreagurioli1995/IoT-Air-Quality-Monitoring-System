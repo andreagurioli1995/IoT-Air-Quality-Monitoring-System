{
  "cells": [
    {
      "cell_type": "markdown",
      "metadata": {
        "id": "view-in-github",
        "colab_type": "text"
      },
      "source": [
        "<a href=\"https://colab.research.google.com/github/andreagurioli1995/IoT-Air-Quality-Monitoring-System/blob/stable/forecasting/forecasting-LSTM.ipynb\" target=\"_parent\"><img src=\"https://colab.research.google.com/assets/colab-badge.svg\" alt=\"Open In Colab\"/></a>"
      ]
    },
    {
      "cell_type": "code",
      "execution_count": 3,
      "metadata": {
        "id": "ok1ZYoOlX0gz"
      },
      "outputs": [],
      "source": [
        "import os\n",
        "import datetime\n",
        "import IPython\n",
        "import IPython.display\n",
        "import matplotlib as mpl\n",
        "import matplotlib.pyplot as plt\n",
        "import numpy as np\n",
        "import pandas as pd\n",
        "import seaborn as sns\n",
        "import tensorflow as tf"
      ]
    },
    {
      "cell_type": "code",
      "source": [
        "dataset_path = \"/content/temp.csv\"\n",
        "df = pd.read_csv(dataset_path)\n",
        "date_time = pd.to_datetime(df.pop('409151bfa0cc'), format='%Y-%m-%d %H:%M:%S')\n",
        "df.rename(columns={'409151bfa0cc.1':'temp'},inplace=True)"
      ],
      "metadata": {
        "id": "yEZEGVqK3Ows"
      },
      "execution_count": null,
      "outputs": []
    },
    {
      "cell_type": "code",
      "source": [
        "df.head()\n"
      ],
      "metadata": {
        "colab": {
          "base_uri": "https://localhost:8080/",
          "height": 206
        },
        "id": "MEVL1NiG3eQr",
        "outputId": "0172bf04-d7ae-4dee-fd11-2ae158b86578"
      },
      "execution_count": null,
      "outputs": [
        {
          "output_type": "execute_result",
          "data": {
            "text/plain": [
              "   temp\n",
              "0  28.2\n",
              "1  28.2\n",
              "2  28.1\n",
              "3  28.2\n",
              "4  28.2"
            ],
            "text/html": [
              "\n",
              "  <div id=\"df-098d8fce-ab8b-4ca7-b0e3-4887d7c24e0f\">\n",
              "    <div class=\"colab-df-container\">\n",
              "      <div>\n",
              "<style scoped>\n",
              "    .dataframe tbody tr th:only-of-type {\n",
              "        vertical-align: middle;\n",
              "    }\n",
              "\n",
              "    .dataframe tbody tr th {\n",
              "        vertical-align: top;\n",
              "    }\n",
              "\n",
              "    .dataframe thead th {\n",
              "        text-align: right;\n",
              "    }\n",
              "</style>\n",
              "<table border=\"1\" class=\"dataframe\">\n",
              "  <thead>\n",
              "    <tr style=\"text-align: right;\">\n",
              "      <th></th>\n",
              "      <th>temp</th>\n",
              "    </tr>\n",
              "  </thead>\n",
              "  <tbody>\n",
              "    <tr>\n",
              "      <th>0</th>\n",
              "      <td>28.2</td>\n",
              "    </tr>\n",
              "    <tr>\n",
              "      <th>1</th>\n",
              "      <td>28.2</td>\n",
              "    </tr>\n",
              "    <tr>\n",
              "      <th>2</th>\n",
              "      <td>28.1</td>\n",
              "    </tr>\n",
              "    <tr>\n",
              "      <th>3</th>\n",
              "      <td>28.2</td>\n",
              "    </tr>\n",
              "    <tr>\n",
              "      <th>4</th>\n",
              "      <td>28.2</td>\n",
              "    </tr>\n",
              "  </tbody>\n",
              "</table>\n",
              "</div>\n",
              "      <button class=\"colab-df-convert\" onclick=\"convertToInteractive('df-098d8fce-ab8b-4ca7-b0e3-4887d7c24e0f')\"\n",
              "              title=\"Convert this dataframe to an interactive table.\"\n",
              "              style=\"display:none;\">\n",
              "        \n",
              "  <svg xmlns=\"http://www.w3.org/2000/svg\" height=\"24px\"viewBox=\"0 0 24 24\"\n",
              "       width=\"24px\">\n",
              "    <path d=\"M0 0h24v24H0V0z\" fill=\"none\"/>\n",
              "    <path d=\"M18.56 5.44l.94 2.06.94-2.06 2.06-.94-2.06-.94-.94-2.06-.94 2.06-2.06.94zm-11 1L8.5 8.5l.94-2.06 2.06-.94-2.06-.94L8.5 2.5l-.94 2.06-2.06.94zm10 10l.94 2.06.94-2.06 2.06-.94-2.06-.94-.94-2.06-.94 2.06-2.06.94z\"/><path d=\"M17.41 7.96l-1.37-1.37c-.4-.4-.92-.59-1.43-.59-.52 0-1.04.2-1.43.59L10.3 9.45l-7.72 7.72c-.78.78-.78 2.05 0 2.83L4 21.41c.39.39.9.59 1.41.59.51 0 1.02-.2 1.41-.59l7.78-7.78 2.81-2.81c.8-.78.8-2.07 0-2.86zM5.41 20L4 18.59l7.72-7.72 1.47 1.35L5.41 20z\"/>\n",
              "  </svg>\n",
              "      </button>\n",
              "      \n",
              "  <style>\n",
              "    .colab-df-container {\n",
              "      display:flex;\n",
              "      flex-wrap:wrap;\n",
              "      gap: 12px;\n",
              "    }\n",
              "\n",
              "    .colab-df-convert {\n",
              "      background-color: #E8F0FE;\n",
              "      border: none;\n",
              "      border-radius: 50%;\n",
              "      cursor: pointer;\n",
              "      display: none;\n",
              "      fill: #1967D2;\n",
              "      height: 32px;\n",
              "      padding: 0 0 0 0;\n",
              "      width: 32px;\n",
              "    }\n",
              "\n",
              "    .colab-df-convert:hover {\n",
              "      background-color: #E2EBFA;\n",
              "      box-shadow: 0px 1px 2px rgba(60, 64, 67, 0.3), 0px 1px 3px 1px rgba(60, 64, 67, 0.15);\n",
              "      fill: #174EA6;\n",
              "    }\n",
              "\n",
              "    [theme=dark] .colab-df-convert {\n",
              "      background-color: #3B4455;\n",
              "      fill: #D2E3FC;\n",
              "    }\n",
              "\n",
              "    [theme=dark] .colab-df-convert:hover {\n",
              "      background-color: #434B5C;\n",
              "      box-shadow: 0px 1px 3px 1px rgba(0, 0, 0, 0.15);\n",
              "      filter: drop-shadow(0px 1px 2px rgba(0, 0, 0, 0.3));\n",
              "      fill: #FFFFFF;\n",
              "    }\n",
              "  </style>\n",
              "\n",
              "      <script>\n",
              "        const buttonEl =\n",
              "          document.querySelector('#df-098d8fce-ab8b-4ca7-b0e3-4887d7c24e0f button.colab-df-convert');\n",
              "        buttonEl.style.display =\n",
              "          google.colab.kernel.accessAllowed ? 'block' : 'none';\n",
              "\n",
              "        async function convertToInteractive(key) {\n",
              "          const element = document.querySelector('#df-098d8fce-ab8b-4ca7-b0e3-4887d7c24e0f');\n",
              "          const dataTable =\n",
              "            await google.colab.kernel.invokeFunction('convertToInteractive',\n",
              "                                                     [key], {});\n",
              "          if (!dataTable) return;\n",
              "\n",
              "          const docLinkHtml = 'Like what you see? Visit the ' +\n",
              "            '<a target=\"_blank\" href=https://colab.research.google.com/notebooks/data_table.ipynb>data table notebook</a>'\n",
              "            + ' to learn more about interactive tables.';\n",
              "          element.innerHTML = '';\n",
              "          dataTable['output_type'] = 'display_data';\n",
              "          await google.colab.output.renderOutput(dataTable, element);\n",
              "          const docLink = document.createElement('div');\n",
              "          docLink.innerHTML = docLinkHtml;\n",
              "          element.appendChild(docLink);\n",
              "        }\n",
              "      </script>\n",
              "    </div>\n",
              "  </div>\n",
              "  "
            ]
          },
          "metadata": {},
          "execution_count": 10
        }
      ]
    },
    {
      "cell_type": "code",
      "source": [
        "#evolution over time of our data\n",
        "plot_cols = ['temp']\n",
        "plot_features = df[plot_cols]\n",
        "plot_features.index = date_time\n",
        "_ = plot_features.plot(subplots=True)\n",
        "\n"
      ],
      "metadata": {
        "colab": {
          "base_uri": "https://localhost:8080/",
          "height": 279
        },
        "id": "tKn0xnRo4XDd",
        "outputId": "e221923c-a9e6-45fe-8ff1-0973c7bdba26"
      },
      "execution_count": null,
      "outputs": [
        {
          "output_type": "display_data",
          "data": {
            "text/plain": [
              "<Figure size 432x288 with 1 Axes>"
            ],
            "image/png": "[encoded data removed]"
          },
          "metadata": {
            "needs_background": "light"
          }
        }
      ]
    },
    {
      "cell_type": "code",
      "source": [
        "df.describe().transpose()"
      ],
      "metadata": {
        "colab": {
          "base_uri": "https://localhost:8080/",
          "height": 81
        },
        "id": "aHBytLqO5cp2",
        "outputId": "569112dd-6f05-4062-f4e0-d3a33cc2775d"
      },
      "execution_count": null,
      "outputs": [
        {
          "output_type": "execute_result",
          "data": {
            "text/plain": [
              "      count       mean       std   min   25%   50%   75%   max\n",
              "temp  118.0  28.155085  0.049953  28.1  28.1  28.2  28.2  28.2"
            ],
            "text/html": [
              "\n",
              "  <div id=\"df-05ddf8e0-6646-41dd-b029-f006d53ba2cc\">\n",
              "    <div class=\"colab-df-container\">\n",
              "      <div>\n",
              "<style scoped>\n",
              "    .dataframe tbody tr th:only-of-type {\n",
              "        vertical-align: middle;\n",
              "    }\n",
              "\n",
              "    .dataframe tbody tr th {\n",
              "        vertical-align: top;\n",
              "    }\n",
              "\n",
              "    .dataframe thead th {\n",
              "        text-align: right;\n",
              "    }\n",
              "</style>\n",
              "<table border=\"1\" class=\"dataframe\">\n",
              "  <thead>\n",
              "    <tr style=\"text-align: right;\">\n",
              "      <th></th>\n",
              "      <th>count</th>\n",
              "      <th>mean</th>\n",
              "      <th>std</th>\n",
              "      <th>min</th>\n",
              "      <th>25%</th>\n",
              "      <th>50%</th>\n",
              "      <th>75%</th>\n",
              "      <th>max</th>\n",
              "    </tr>\n",
              "  </thead>\n",
              "  <tbody>\n",
              "    <tr>\n",
              "      <th>temp</th>\n",
              "      <td>118.0</td>\n",
              "      <td>28.155085</td>\n",
              "      <td>0.049953</td>\n",
              "      <td>28.1</td>\n",
              "      <td>28.1</td>\n",
              "      <td>28.2</td>\n",
              "      <td>28.2</td>\n",
              "      <td>28.2</td>\n",
              "    </tr>\n",
              "  </tbody>\n",
              "</table>\n",
              "</div>\n",
              "      <button class=\"colab-df-convert\" onclick=\"convertToInteractive('df-05ddf8e0-6646-41dd-b029-f006d53ba2cc')\"\n",
              "              title=\"Convert this dataframe to an interactive table.\"\n",
              "              style=\"display:none;\">\n",
              "        \n",
              "  <svg xmlns=\"http://www.w3.org/2000/svg\" height=\"24px\"viewBox=\"0 0 24 24\"\n",
              "       width=\"24px\">\n",
              "    <path d=\"M0 0h24v24H0V0z\" fill=\"none\"/>\n",
              "    <path d=\"M18.56 5.44l.94 2.06.94-2.06 2.06-.94-2.06-.94-.94-2.06-.94 2.06-2.06.94zm-11 1L8.5 8.5l.94-2.06 2.06-.94-2.06-.94L8.5 2.5l-.94 2.06-2.06.94zm10 10l.94 2.06.94-2.06 2.06-.94-2.06-.94-.94-2.06-.94 2.06-2.06.94z\"/><path d=\"M17.41 7.96l-1.37-1.37c-.4-.4-.92-.59-1.43-.59-.52 0-1.04.2-1.43.59L10.3 9.45l-7.72 7.72c-.78.78-.78 2.05 0 2.83L4 21.41c.39.39.9.59 1.41.59.51 0 1.02-.2 1.41-.59l7.78-7.78 2.81-2.81c.8-.78.8-2.07 0-2.86zM5.41 20L4 18.59l7.72-7.72 1.47 1.35L5.41 20z\"/>\n",
              "  </svg>\n",
              "      </button>\n",
              "      \n",
              "  <style>\n",
              "    .colab-df-container {\n",
              "      display:flex;\n",
              "      flex-wrap:wrap;\n",
              "      gap: 12px;\n",
              "    }\n",
              "\n",
              "    .colab-df-convert {\n",
              "      background-color: #E8F0FE;\n",
              "      border: none;\n",
              "      border-radius: 50%;\n",
              "      cursor: pointer;\n",
              "      display: none;\n",
              "      fill: #1967D2;\n",
              "      height: 32px;\n",
              "      padding: 0 0 0 0;\n",
              "      width: 32px;\n",
              "    }\n",
              "\n",
              "    .colab-df-convert:hover {\n",
              "      background-color: #E2EBFA;\n",
              "      box-shadow: 0px 1px 2px rgba(60, 64, 67, 0.3), 0px 1px 3px 1px rgba(60, 64, 67, 0.15);\n",
              "      fill: #174EA6;\n",
              "    }\n",
              "\n",
              "    [theme=dark] .colab-df-convert {\n",
              "      background-color: #3B4455;\n",
              "      fill: #D2E3FC;\n",
              "    }\n",
              "\n",
              "    [theme=dark] .colab-df-convert:hover {\n",
              "      background-color: #434B5C;\n",
              "      box-shadow: 0px 1px 3px 1px rgba(0, 0, 0, 0.15);\n",
              "      filter: drop-shadow(0px 1px 2px rgba(0, 0, 0, 0.3));\n",
              "      fill: #FFFFFF;\n",
              "    }\n",
              "  </style>\n",
              "\n",
              "      <script>\n",
              "        const buttonEl =\n",
              "          document.querySelector('#df-05ddf8e0-6646-41dd-b029-f006d53ba2cc button.colab-df-convert');\n",
              "        buttonEl.style.display =\n",
              "          google.colab.kernel.accessAllowed ? 'block' : 'none';\n",
              "\n",
              "        async function convertToInteractive(key) {\n",
              "          const element = document.querySelector('#df-05ddf8e0-6646-41dd-b029-f006d53ba2cc');\n",
              "          const dataTable =\n",
              "            await google.colab.kernel.invokeFunction('convertToInteractive',\n",
              "                                                     [key], {});\n",
              "          if (!dataTable) return;\n",
              "\n",
              "          const docLinkHtml = 'Like what you see? Visit the ' +\n",
              "            '<a target=\"_blank\" href=https://colab.research.google.com/notebooks/data_table.ipynb>data table notebook</a>'\n",
              "            + ' to learn more about interactive tables.';\n",
              "          element.innerHTML = '';\n",
              "          dataTable['output_type'] = 'display_data';\n",
              "          await google.colab.output.renderOutput(dataTable, element);\n",
              "          const docLink = document.createElement('div');\n",
              "          docLink.innerHTML = docLinkHtml;\n",
              "          element.appendChild(docLink);\n",
              "        }\n",
              "      </script>\n",
              "    </div>\n",
              "  </div>\n",
              "  "
            ]
          },
          "metadata": {},
          "execution_count": 12
        }
      ]
    },
    {
      "cell_type": "markdown",
      "source": [
        "# Data preprocessing\n",
        "In order to obtain a valuable model, time in string format is not useful, we need to convert it in seconds"
      ],
      "metadata": {
        "id": "9UqIHUCm62g0"
      }
    },
    {
      "cell_type": "code",
      "source": [
        "#converting timestamps form string to seconds\n",
        "timestamp_s = date_time.map(pd.Timestamp.timestamp)"
      ],
      "metadata": {
        "id": "YZZJ_9-w564f"
      },
      "execution_count": null,
      "outputs": []
    },
    {
      "cell_type": "code",
      "source": [
        "timestamp_s.head()"
      ],
      "metadata": {
        "colab": {
          "base_uri": "https://localhost:8080/"
        },
        "id": "iHMGv0YG58Nj",
        "outputId": "2ec3a8c7-36ce-4ccd-b45f-63d3c6fa7236"
      },
      "execution_count": null,
      "outputs": [
        {
          "output_type": "execute_result",
          "data": {
            "text/plain": [
              "0    1.654470e+09\n",
              "1    1.654470e+09\n",
              "2    1.654470e+09\n",
              "3    1.654470e+09\n",
              "4    1.654470e+09\n",
              "Name: 409151bfa0cc, dtype: float64"
            ]
          },
          "metadata": {},
          "execution_count": 14
        }
      ]
    },
    {
      "cell_type": "markdown",
      "source": [
        "Dealing with periodicity of the timestamps"
      ],
      "metadata": {
        "id": "zHg6dD2c7jzy"
      }
    },
    {
      "cell_type": "code",
      "source": [
        "#how may seconds per day and year reported in sin and cos to obtain periodicity\n",
        "day = 24*60*60\n",
        "year = (365.2425)*day\n",
        "\n",
        "df['Day sin'] = np.sin(timestamp_s * (2 * np.pi / day))\n",
        "df['Day cos'] = np.cos(timestamp_s * (2 * np.pi / day))\n",
        "df['Year sin'] = np.sin(timestamp_s * (2 * np.pi / year))\n",
        "df['Year cos'] = np.cos(timestamp_s * (2 * np.pi / year))"
      ],
      "metadata": {
        "id": "ID0XHyS17nev"
      },
      "execution_count": null,
      "outputs": []
    },
    {
      "cell_type": "code",
      "source": [
        "plt.plot(np.array(df['Day sin']))\n",
        "plt.xlabel('Time [h]')\n",
        "plt.title('Time of day signal')"
      ],
      "metadata": {
        "colab": {
          "base_uri": "https://localhost:8080/",
          "height": 312
        },
        "id": "PNFluYv29mAy",
        "outputId": "2047b7cf-cb57-48f3-e1bb-41a08b47fc5c"
      },
      "execution_count": null,
      "outputs": [
        {
          "output_type": "execute_result",
          "data": {
            "text/plain": [
              "Text(0.5, 1.0, 'Time of day signal')"
            ]
          },
          "metadata": {},
          "execution_count": 16
        },
        {
          "output_type": "display_data",
          "data": {
            "text/plain": [
              "<Figure size 432x288 with 1 Axes>"
            ],
            "image/png": "[encoded data removed]"
          },
          "metadata": {
            "needs_background": "light"
          }
        }
      ]
    },
    {
      "cell_type": "code",
      "source": [
        "\n",
        "plt.plot(np.array(df['Day cos']))\n",
        "plt.xlabel('Time [h]')\n",
        "plt.title('Time of day signal')"
      ],
      "metadata": {
        "colab": {
          "base_uri": "https://localhost:8080/",
          "height": 312
        },
        "id": "aQtlX-rS_rz4",
        "outputId": "cc0e29f9-db0a-4c53-c0fa-4e3b67766a31"
      },
      "execution_count": null,
      "outputs": [
        {
          "output_type": "execute_result",
          "data": {
            "text/plain": [
              "Text(0.5, 1.0, 'Time of day signal')"
            ]
          },
          "metadata": {},
          "execution_count": 17
        },
        {
          "output_type": "display_data",
          "data": {
            "text/plain": [
              "<Figure size 432x288 with 1 Axes>"
            ],
            "image/png": "[encoded data removed]"
          },
          "metadata": {
            "needs_background": "light"
          }
        }
      ]
    },
    {
      "cell_type": "code",
      "source": [
        "#splitting the dataset in training validating and testing set\n",
        "\n",
        "column_indices = {name: i for i, name in enumerate(df.columns)}\n",
        "\n",
        "n = len(df)\n",
        "train_df = df[0:int(n*0.7)]\n",
        "val_df = df[int(n*0.7):int(n*0.9)]\n",
        "test_df = df[int(n*0.9):]\n",
        "\n",
        "num_features = df.shape[1]"
      ],
      "metadata": {
        "id": "z_unKKyTAHpt"
      },
      "execution_count": null,
      "outputs": []
    },
    {
      "cell_type": "code",
      "source": [
        "#data normalization\n",
        "train_mean = train_df.mean()\n",
        "train_std = train_df.std()\n",
        "\n",
        "train_df = (train_df - train_mean) / train_std\n",
        "val_df = (val_df - train_mean) / train_std\n",
        "test_df = (test_df - train_mean) / train_std"
      ],
      "metadata": {
        "id": "vTGX3iGlASpS"
      },
      "execution_count": null,
      "outputs": []
    },
    {
      "cell_type": "code",
      "source": [
        "df_std = (df - train_mean) / train_std\n",
        "df_std = df_std.melt(var_name='Column', value_name='Normalized')\n",
        "plt.figure(figsize=(12, 6))\n",
        "ax = sns.violinplot(x='Column', y='Normalized', data=df_std)\n",
        "_ = ax.set_xticklabels(df.keys(), rotation=90)"
      ],
      "metadata": {
        "colab": {
          "base_uri": "https://localhost:8080/",
          "height": 419
        },
        "id": "L9TXviu6AhN3",
        "outputId": "6276bcd2-1212-4144-8176-4fc8cf63491b"
      },
      "execution_count": null,
      "outputs": [
        {
          "output_type": "display_data",
          "data": {
            "text/plain": [
              "<Figure size 864x432 with 1 Axes>"
            ],
            "image/png": "[encoded data removed]"
          },
          "metadata": {
            "needs_background": "light"
          }
        }
      ]
    },
    {
      "cell_type": "markdown",
      "source": [
        "As we want to handle the input, we will use windowing for data input.\n",
        "The main features of the input windows are:\n",
        "\n",
        "\n",
        "*   The width (number of time steps) of the input and label windows.\n",
        "*   The time offset between them\n",
        "*    Which features are used as inputs, labels, or both.\n"
      ],
      "metadata": {
        "id": "_o2bi0B6Bm4Q"
      }
    },
    {
      "cell_type": "code",
      "source": [
        "class WindowGenerator():\n",
        "  def __init__(self, input_width, label_width, shift,\n",
        "               train_df=train_df, val_df=val_df, test_df=test_df,\n",
        "               label_columns=None):\n",
        "    # Store the raw data.\n",
        "    self.train_df = train_df\n",
        "    self.val_df = val_df\n",
        "    self.test_df = test_df\n",
        "\n",
        "    # Work out the label column indices.\n",
        "    self.label_columns = label_columns\n",
        "    if label_columns is not None:\n",
        "      self.label_columns_indices = {name: i for i, name in\n",
        "                                    enumerate(label_columns)}\n",
        "    self.column_indices = {name: i for i, name in\n",
        "                           enumerate(train_df.columns)}\n",
        "\n",
        "    # Work out the window parameters.\n",
        "    self.input_width = input_width\n",
        "    self.label_width = label_width\n",
        "    self.shift = shift\n",
        "\n",
        "    self.total_window_size = input_width + shift\n",
        "\n",
        "    self.input_slice = slice(0, input_width)\n",
        "    self.input_indices = np.arange(self.total_window_size)[self.input_slice]\n",
        "\n",
        "    self.label_start = self.total_window_size - self.label_width\n",
        "    self.labels_slice = slice(self.label_start, None)\n",
        "    self.label_indices = np.arange(self.total_window_size)[self.labels_slice]\n",
        "\n",
        "  def __repr__(self):\n",
        "    return '\\n'.join([\n",
        "        f'Total window size: {self.total_window_size}',\n",
        "        f'Input indices: {self.input_indices}',\n",
        "        f'Label indices: {self.label_indices}',\n",
        "        f'Label column name(s): {self.label_columns}'])"
      ],
      "metadata": {
        "id": "UTcvnmGbBlnh"
      },
      "execution_count": 17,
      "outputs": []
    },
    {
      "cell_type": "code",
      "source": [
        "#settle the length of the window for the prediction\n",
        "window_length = 7\n",
        "window_shift = 1\n",
        "w1 = WindowGenerator(input_width=window_length, label_width=1, shift=window_shift,\n",
        "                     label_columns=['temp'])\n",
        "w1"
      ],
      "metadata": {
        "colab": {
          "base_uri": "https://localhost:8080/"
        },
        "id": "1hn8_BpqChic",
        "outputId": "40192f88-9224-4055-d9b6-7ef2d5b1c4fe"
      },
      "execution_count": 18,
      "outputs": [
        {
          "output_type": "execute_result",
          "data": {
            "text/plain": [
              "Total window size: 8\n",
              "Input indices: [0 1 2 3 4 5 6]\n",
              "Label indices: [7]\n",
              "Label column name(s): ['temp']"
            ]
          },
          "metadata": {},
          "execution_count": 18
        }
      ]
    },
    {
      "cell_type": "code",
      "source": [
        "def split_window(self, features):\n",
        "  inputs = features[:, self.input_slice, :]\n",
        "  labels = features[:, self.labels_slice, :]\n",
        "  if self.label_columns is not None:\n",
        "    labels = tf.stack(\n",
        "        [labels[:, :, self.column_indices[name]] for name in self.label_columns],\n",
        "        axis=-1)\n",
        "\n",
        "  # Slicing doesn't preserve static shape information, so set the shapes\n",
        "  # manually. This way the `tf.data.Datasets` are easier to inspect.\n",
        "  inputs.set_shape([None, self.input_width, None])\n",
        "  labels.set_shape([None, self.label_width, None])\n",
        "\n",
        "  return inputs, labels\n",
        "\n",
        "WindowGenerator.split_window = split_window"
      ],
      "metadata": {
        "id": "v7VNbqJ1DG1H"
      },
      "execution_count": 19,
      "outputs": []
    },
    {
      "cell_type": "code",
      "source": [
        "# Stack three slices, the length of the total window.\n",
        "example_window = tf.stack([np.array(train_df[:w1.total_window_size]),\n",
        "                           np.array(train_df[50:50+w1.total_window_size]),\n",
        "                           np.array(train_df[70:70+w1.total_window_size])])\n",
        "\n",
        "example_inputs, example_labels = w1.split_window(example_window)\n",
        "\n",
        "print('All shapes are: (batch, time, features)')\n",
        "print(f'Window shape: {example_window.shape}')\n",
        "print(f'Inputs shape: {example_inputs.shape}')\n",
        "print(f'Labels shape: {example_labels.shape}')"
      ],
      "metadata": {
        "colab": {
          "base_uri": "https://localhost:8080/",
          "height": 380
        },
        "id": "5eIFR_eMDorK",
        "outputId": "a7ead6cd-b2f2-471b-98fb-7bb2adaa3d53"
      },
      "execution_count": 20,
      "outputs": [
        {
          "output_type": "error",
          "ename": "KeyError",
          "evalue": "ignored",
          "traceback": [
            "\u001b[0;31m---------------------------------------------------------------------------\u001b[0m",
            "\u001b[0;31mKeyError\u001b[0m                                  Traceback (most recent call last)",
            "\u001b[0;32m<ipython-input-20-63007f424dce>\u001b[0m in \u001b[0;36m<module>\u001b[0;34m()\u001b[0m\n\u001b[1;32m      4\u001b[0m                            np.array(train_df[70:70+w1.total_window_size])])\n\u001b[1;32m      5\u001b[0m \u001b[0;34m\u001b[0m\u001b[0m\n\u001b[0;32m----> 6\u001b[0;31m \u001b[0mexample_inputs\u001b[0m\u001b[0;34m,\u001b[0m \u001b[0mexample_labels\u001b[0m \u001b[0;34m=\u001b[0m \u001b[0mw1\u001b[0m\u001b[0;34m.\u001b[0m\u001b[0msplit_window\u001b[0m\u001b[0;34m(\u001b[0m\u001b[0mexample_window\u001b[0m\u001b[0;34m)\u001b[0m\u001b[0;34m\u001b[0m\u001b[0;34m\u001b[0m\u001b[0m\n\u001b[0m\u001b[1;32m      7\u001b[0m \u001b[0;34m\u001b[0m\u001b[0m\n\u001b[1;32m      8\u001b[0m \u001b[0mprint\u001b[0m\u001b[0;34m(\u001b[0m\u001b[0;34m'All shapes are: (batch, time, features)'\u001b[0m\u001b[0;34m)\u001b[0m\u001b[0;34m\u001b[0m\u001b[0;34m\u001b[0m\u001b[0m\n",
            "\u001b[0;32m<ipython-input-19-3603dd900e3b>\u001b[0m in \u001b[0;36msplit_window\u001b[0;34m(self, features)\u001b[0m\n\u001b[1;32m      4\u001b[0m   \u001b[0;32mif\u001b[0m \u001b[0mself\u001b[0m\u001b[0;34m.\u001b[0m\u001b[0mlabel_columns\u001b[0m \u001b[0;32mis\u001b[0m \u001b[0;32mnot\u001b[0m \u001b[0;32mNone\u001b[0m\u001b[0;34m:\u001b[0m\u001b[0;34m\u001b[0m\u001b[0;34m\u001b[0m\u001b[0m\n\u001b[1;32m      5\u001b[0m     labels = tf.stack(\n\u001b[0;32m----> 6\u001b[0;31m         \u001b[0;34m[\u001b[0m\u001b[0mlabels\u001b[0m\u001b[0;34m[\u001b[0m\u001b[0;34m:\u001b[0m\u001b[0;34m,\u001b[0m \u001b[0;34m:\u001b[0m\u001b[0;34m,\u001b[0m \u001b[0mself\u001b[0m\u001b[0;34m.\u001b[0m\u001b[0mcolumn_indices\u001b[0m\u001b[0;34m[\u001b[0m\u001b[0mname\u001b[0m\u001b[0;34m]\u001b[0m\u001b[0;34m]\u001b[0m \u001b[0;32mfor\u001b[0m \u001b[0mname\u001b[0m \u001b[0;32min\u001b[0m \u001b[0mself\u001b[0m\u001b[0;34m.\u001b[0m\u001b[0mlabel_columns\u001b[0m\u001b[0;34m]\u001b[0m\u001b[0;34m,\u001b[0m\u001b[0;34m\u001b[0m\u001b[0;34m\u001b[0m\u001b[0m\n\u001b[0m\u001b[1;32m      7\u001b[0m         axis=-1)\n\u001b[1;32m      8\u001b[0m \u001b[0;34m\u001b[0m\u001b[0m\n",
            "\u001b[0;32m<ipython-input-19-3603dd900e3b>\u001b[0m in \u001b[0;36m<listcomp>\u001b[0;34m(.0)\u001b[0m\n\u001b[1;32m      4\u001b[0m   \u001b[0;32mif\u001b[0m \u001b[0mself\u001b[0m\u001b[0;34m.\u001b[0m\u001b[0mlabel_columns\u001b[0m \u001b[0;32mis\u001b[0m \u001b[0;32mnot\u001b[0m \u001b[0;32mNone\u001b[0m\u001b[0;34m:\u001b[0m\u001b[0;34m\u001b[0m\u001b[0;34m\u001b[0m\u001b[0m\n\u001b[1;32m      5\u001b[0m     labels = tf.stack(\n\u001b[0;32m----> 6\u001b[0;31m         \u001b[0;34m[\u001b[0m\u001b[0mlabels\u001b[0m\u001b[0;34m[\u001b[0m\u001b[0;34m:\u001b[0m\u001b[0;34m,\u001b[0m \u001b[0;34m:\u001b[0m\u001b[0;34m,\u001b[0m \u001b[0mself\u001b[0m\u001b[0;34m.\u001b[0m\u001b[0mcolumn_indices\u001b[0m\u001b[0;34m[\u001b[0m\u001b[0mname\u001b[0m\u001b[0;34m]\u001b[0m\u001b[0;34m]\u001b[0m \u001b[0;32mfor\u001b[0m \u001b[0mname\u001b[0m \u001b[0;32min\u001b[0m \u001b[0mself\u001b[0m\u001b[0;34m.\u001b[0m\u001b[0mlabel_columns\u001b[0m\u001b[0;34m]\u001b[0m\u001b[0;34m,\u001b[0m\u001b[0;34m\u001b[0m\u001b[0;34m\u001b[0m\u001b[0m\n\u001b[0m\u001b[1;32m      7\u001b[0m         axis=-1)\n\u001b[1;32m      8\u001b[0m \u001b[0;34m\u001b[0m\u001b[0m\n",
            "\u001b[0;31mKeyError\u001b[0m: 'temp'"
          ]
        }
      ]
    },
    {
      "cell_type": "code",
      "source": [
        "w1.example = example_inputs, example_labels"
      ],
      "metadata": {
        "id": "pdf627NtG97f"
      },
      "execution_count": null,
      "outputs": []
    },
    {
      "cell_type": "code",
      "source": [
        "def plot(self, model=None, plot_col='temp', max_subplots=3):\n",
        "  inputs, labels = self.example\n",
        "  plt.figure(figsize=(12, 8))\n",
        "  plot_col_index = self.column_indices[plot_col]\n",
        "  max_n = min(max_subplots, len(inputs))\n",
        "  for n in range(max_n):\n",
        "    plt.subplot(max_n, 1, n+1)\n",
        "    plt.ylabel(f'{plot_col} [normed]')\n",
        "    plt.plot(self.input_indices, inputs[n, :, plot_col_index],\n",
        "             label='Inputs', marker='.', zorder=-10)\n",
        "\n",
        "    if self.label_columns:\n",
        "      label_col_index = self.label_columns_indices.get(plot_col, None)\n",
        "    else:\n",
        "      label_col_index = plot_col_index\n",
        "\n",
        "    if label_col_index is None:\n",
        "      continue\n",
        "\n",
        "    plt.scatter(self.label_indices, labels[n, :, label_col_index],\n",
        "                edgecolors='k', label='Labels', c='#2ca02c', s=64)\n",
        "    if model is not None:\n",
        "      predictions = model(inputs)\n",
        "      plt.scatter(self.label_indices, predictions[n, :, label_col_index],\n",
        "                  marker='X', edgecolors='k', label='Predictions',\n",
        "                  c='#ff7f0e', s=64)\n",
        "\n",
        "    if n == 0:\n",
        "      plt.legend()\n",
        "\n",
        "  plt.xlabel('Time [h]')\n",
        "\n",
        "WindowGenerator.plot = plot"
      ],
      "metadata": {
        "id": "eEmn1OjOHAQc"
      },
      "execution_count": 21,
      "outputs": []
    },
    {
      "cell_type": "code",
      "source": [
        "w1.plot()"
      ],
      "metadata": {
        "colab": {
          "base_uri": "https://localhost:8080/",
          "height": 497
        },
        "id": "yPumaM57HFRg",
        "outputId": "efcd14d5-dcae-4624-cc0f-330d1149374f"
      },
      "execution_count": null,
      "outputs": [
        {
          "output_type": "display_data",
          "data": {
            "text/plain": [
              "<Figure size 864x576 with 3 Axes>"
            ],
            "image/png": "[encoded data removed]"
          },
          "metadata": {
            "needs_background": "light"
          }
        }
      ]
    },
    {
      "cell_type": "code",
      "source": [
        "def make_dataset(self, data):\n",
        "  data = np.array(data, dtype=np.float32)\n",
        "  ds = tf.keras.utils.timeseries_dataset_from_array(\n",
        "      data=data,\n",
        "      targets=None,\n",
        "      sequence_length=self.total_window_size,\n",
        "      sequence_stride=1,\n",
        "      shuffle=True,\n",
        "      batch_size=32,)\n",
        "\n",
        "  ds = ds.map(self.split_window)\n",
        "\n",
        "  return ds\n",
        "\n",
        "WindowGenerator.make_dataset = make_dataset"
      ],
      "metadata": {
        "id": "dXMWRa-OHY8c"
      },
      "execution_count": 22,
      "outputs": []
    },
    {
      "cell_type": "code",
      "source": [
        "@property\n",
        "def train(self):\n",
        "  return self.make_dataset(self.train_df)\n",
        "\n",
        "@property\n",
        "def val(self):\n",
        "  return self.make_dataset(self.val_df)\n",
        "\n",
        "@property\n",
        "def test(self):\n",
        "  return self.make_dataset(self.test_df)\n",
        "\n",
        "@property\n",
        "def example(self):\n",
        "  \"\"\"Get and cache an example batch of `inputs, labels` for plotting.\"\"\"\n",
        "  result = getattr(self, '_example', None)\n",
        "  if result is None:\n",
        "    # No example batch was found, so get one from the `.train` dataset\n",
        "    result = next(iter(self.train))\n",
        "    # And cache it for next time\n",
        "    self._example = result\n",
        "  return result\n",
        "\n",
        "WindowGenerator.train = train\n",
        "WindowGenerator.val = val\n",
        "WindowGenerator.test = test\n",
        "WindowGenerator.example = example"
      ],
      "metadata": {
        "id": "XgEEhtFMHe9M"
      },
      "execution_count": 23,
      "outputs": []
    },
    {
      "cell_type": "markdown",
      "source": [
        "#Baseline model\n",
        "Model wich predicts values by replicating the previous one"
      ],
      "metadata": {
        "id": "lUiByGa7RR-R"
      }
    },
    {
      "cell_type": "code",
      "source": [
        "class Baseline(tf.keras.Model):\n",
        "  def __init__(self, label_index=None):\n",
        "    super().__init__()\n",
        "    self.label_index = label_index\n",
        "\n",
        "  def call(self, inputs):\n",
        "    if self.label_index is None:\n",
        "      return inputs\n",
        "    result = inputs[:, :, self.label_index]\n",
        "    return result[:, :, tf.newaxis]"
      ],
      "metadata": {
        "id": "hyJkYH8jRQB3"
      },
      "execution_count": 28,
      "outputs": []
    },
    {
      "cell_type": "code",
      "source": [
        "Baseline = Baseline(label_index=column_indices['temp'])\n",
        "\n",
        "baseline.compile(loss=tf.losses.MeanSquaredError(),\n",
        "                 metrics=[tf.metrics.MeanSquaredError()])\n",
        "\n",
        "val_performance = {}\n",
        "performance = {}\n",
        "val_performance['Baseline'] = baseline.evaluate(w1.val)\n",
        "performance['Baseline'] = baseline.evaluate(w1.test, verbose=0)"
      ],
      "metadata": {
        "id": "Vtp65O6iRfb1"
      },
      "execution_count": null,
      "outputs": []
    },
    {
      "cell_type": "code",
      "source": [
        "wide_window = WindowGenerator(\n",
        "    input_width=6, label_width=6, shift=1,\n",
        "    label_columns=['temp'])\n",
        "\n",
        "wide_window"
      ],
      "metadata": {
        "colab": {
          "base_uri": "https://localhost:8080/"
        },
        "id": "p2U1vVFqRpNm",
        "outputId": "a51ac5ec-0797-49ff-cc13-138d7cb88d18"
      },
      "execution_count": 25,
      "outputs": [
        {
          "output_type": "execute_result",
          "data": {
            "text/plain": [
              "Total window size: 7\n",
              "Input indices: [0 1 2 3 4 5]\n",
              "Label indices: [1 2 3 4 5 6]\n",
              "Label column name(s): ['temp']"
            ]
          },
          "metadata": {},
          "execution_count": 25
        }
      ]
    },
    {
      "cell_type": "code",
      "source": [
        "wide_window.plot(baseline)"
      ],
      "metadata": {
        "id": "G1CZBXzoR9xK"
      },
      "execution_count": null,
      "outputs": []
    },
    {
      "cell_type": "code",
      "source": [
        "MAX_EPOCHS = 50\n",
        "\n",
        "def compile_and_fit(model, window, patience=2):\n",
        "  early_stopping = tf.keras.callbacks.EarlyStopping(monitor='mean_squared_error',\n",
        "                                                    patience=patience,\n",
        "                                                    mode='min')\n",
        "\n",
        "  model.compile(loss=tf.losses.MeanSquaredError(),\n",
        "                optimizer=tf.optimizers.Adam(),\n",
        "                metrics=[tf.metrics.MeanSquaredError()])\n",
        "\n",
        "  history = model.fit(window.train, epochs=MAX_EPOCHS,\n",
        "                      validation_data=window.val,\n",
        "                      callbacks=[early_stopping])\n",
        "  return history"
      ],
      "metadata": {
        "id": "DOCJPoRLTt7F"
      },
      "execution_count": 24,
      "outputs": []
    },
    {
      "cell_type": "code",
      "source": [
        "lstm_model = tf.keras.models.Sequential([\n",
        "    # Shape [batch, time, features] => [batch, time, lstm_units]\n",
        "    tf.keras.layers.LSTM(32, return_sequences=True),\n",
        "    # Shape => [batch, time, features]\n",
        "    tf.keras.layers.Dense(units=1)\n",
        "])"
      ],
      "metadata": {
        "id": "Tsu3CRjJSt_Q"
      },
      "execution_count": null,
      "outputs": []
    },
    {
      "cell_type": "code",
      "source": [
        "history = compile_and_fit(lstm_model, wide_window)\n",
        "\n",
        "#IPython.display.clear_output()\n",
        "#val_performance['LSTM'] = lstm_model.evaluate(wide_window.val)\n",
        "#performance['LSTM'] = lstm_model.evaluate(wide_window.test, verbose=0)"
      ],
      "metadata": {
        "colab": {
          "base_uri": "https://localhost:8080/"
        },
        "id": "uoHDvw-2S3Ze",
        "outputId": "21ec0b09-cf93-4713-8b94-903caaf6eef9"
      },
      "execution_count": null,
      "outputs": [
        {
          "output_type": "stream",
          "name": "stdout",
          "text": [
            "Epoch 1/50\n",
            "3/3 [==============================] - 6s 323ms/step - loss: 0.7788 - mean_squared_error: 0.7788 - val_loss: 2.6258 - val_mean_squared_error: 2.6258\n",
            "Epoch 2/50\n",
            "3/3 [==============================] - 0s 37ms/step - loss: 0.6870 - mean_squared_error: 0.6870 - val_loss: 2.1261 - val_mean_squared_error: 2.1261\n",
            "Epoch 3/50\n",
            "3/3 [==============================] - 0s 38ms/step - loss: 0.6235 - mean_squared_error: 0.6235 - val_loss: 1.6689 - val_mean_squared_error: 1.6689\n",
            "Epoch 4/50\n",
            "3/3 [==============================] - 0s 51ms/step - loss: 0.5649 - mean_squared_error: 0.5649 - val_loss: 1.2994 - val_mean_squared_error: 1.2994\n",
            "Epoch 5/50\n",
            "3/3 [==============================] - 0s 42ms/step - loss: 0.5155 - mean_squared_error: 0.5155 - val_loss: 1.0131 - val_mean_squared_error: 1.0131\n",
            "Epoch 6/50\n",
            "3/3 [==============================] - 0s 38ms/step - loss: 0.4886 - mean_squared_error: 0.4886 - val_loss: 0.7843 - val_mean_squared_error: 0.7843\n",
            "Epoch 7/50\n",
            "3/3 [==============================] - 0s 40ms/step - loss: 0.4640 - mean_squared_error: 0.4640 - val_loss: 0.6318 - val_mean_squared_error: 0.6318\n",
            "Epoch 8/50\n",
            "3/3 [==============================] - 0s 35ms/step - loss: 0.4484 - mean_squared_error: 0.4484 - val_loss: 0.5435 - val_mean_squared_error: 0.5435\n",
            "Epoch 9/50\n",
            "3/3 [==============================] - 0s 38ms/step - loss: 0.4390 - mean_squared_error: 0.4390 - val_loss: 0.5042 - val_mean_squared_error: 0.5042\n",
            "Epoch 10/50\n",
            "3/3 [==============================] - 0s 39ms/step - loss: 0.4316 - mean_squared_error: 0.4316 - val_loss: 0.4963 - val_mean_squared_error: 0.4963\n",
            "Epoch 11/50\n",
            "3/3 [==============================] - 0s 36ms/step - loss: 0.4269 - mean_squared_error: 0.4269 - val_loss: 0.5025 - val_mean_squared_error: 0.5025\n",
            "Epoch 12/50\n",
            "3/3 [==============================] - 0s 34ms/step - loss: 0.4215 - mean_squared_error: 0.4215 - val_loss: 0.5106 - val_mean_squared_error: 0.5106\n",
            "Epoch 13/50\n",
            "3/3 [==============================] - 0s 36ms/step - loss: 0.4155 - mean_squared_error: 0.4155 - val_loss: 0.5137 - val_mean_squared_error: 0.5137\n",
            "Epoch 14/50\n",
            "3/3 [==============================] - 0s 37ms/step - loss: 0.4095 - mean_squared_error: 0.4095 - val_loss: 0.5095 - val_mean_squared_error: 0.5095\n",
            "Epoch 15/50\n",
            "3/3 [==============================] - 0s 36ms/step - loss: 0.4047 - mean_squared_error: 0.4047 - val_loss: 0.5042 - val_mean_squared_error: 0.5042\n",
            "Epoch 16/50\n",
            "3/3 [==============================] - 0s 34ms/step - loss: 0.4023 - mean_squared_error: 0.4023 - val_loss: 0.4996 - val_mean_squared_error: 0.4996\n",
            "Epoch 17/50\n",
            "3/3 [==============================] - 0s 38ms/step - loss: 0.3991 - mean_squared_error: 0.3991 - val_loss: 0.4928 - val_mean_squared_error: 0.4928\n",
            "Epoch 18/50\n",
            "3/3 [==============================] - 0s 36ms/step - loss: 0.3976 - mean_squared_error: 0.3976 - val_loss: 0.4864 - val_mean_squared_error: 0.4864\n",
            "Epoch 19/50\n",
            "3/3 [==============================] - 0s 39ms/step - loss: 0.3960 - mean_squared_error: 0.3960 - val_loss: 0.4777 - val_mean_squared_error: 0.4777\n",
            "Epoch 20/50\n",
            "3/3 [==============================] - 0s 38ms/step - loss: 0.3945 - mean_squared_error: 0.3945 - val_loss: 0.4706 - val_mean_squared_error: 0.4706\n",
            "Epoch 21/50\n",
            "3/3 [==============================] - 0s 42ms/step - loss: 0.3932 - mean_squared_error: 0.3932 - val_loss: 0.4641 - val_mean_squared_error: 0.4641\n",
            "Epoch 22/50\n",
            "3/3 [==============================] - 0s 40ms/step - loss: 0.3915 - mean_squared_error: 0.3915 - val_loss: 0.4561 - val_mean_squared_error: 0.4561\n",
            "Epoch 23/50\n",
            "3/3 [==============================] - 0s 42ms/step - loss: 0.3900 - mean_squared_error: 0.3900 - val_loss: 0.4476 - val_mean_squared_error: 0.4476\n",
            "Epoch 24/50\n",
            "3/3 [==============================] - 0s 40ms/step - loss: 0.3880 - mean_squared_error: 0.3880 - val_loss: 0.4408 - val_mean_squared_error: 0.4408\n",
            "Epoch 25/50\n",
            "3/3 [==============================] - 0s 45ms/step - loss: 0.3865 - mean_squared_error: 0.3865 - val_loss: 0.4332 - val_mean_squared_error: 0.4332\n",
            "Epoch 26/50\n",
            "3/3 [==============================] - 0s 41ms/step - loss: 0.3845 - mean_squared_error: 0.3845 - val_loss: 0.4230 - val_mean_squared_error: 0.4230\n",
            "Epoch 27/50\n",
            "3/3 [==============================] - 0s 43ms/step - loss: 0.3830 - mean_squared_error: 0.3830 - val_loss: 0.4119 - val_mean_squared_error: 0.4119\n",
            "Epoch 28/50\n",
            "3/3 [==============================] - 0s 41ms/step - loss: 0.3816 - mean_squared_error: 0.3816 - val_loss: 0.4027 - val_mean_squared_error: 0.4027\n",
            "Epoch 29/50\n",
            "3/3 [==============================] - 0s 42ms/step - loss: 0.3801 - mean_squared_error: 0.3801 - val_loss: 0.3925 - val_mean_squared_error: 0.3925\n",
            "Epoch 30/50\n",
            "3/3 [==============================] - 0s 39ms/step - loss: 0.3786 - mean_squared_error: 0.3786 - val_loss: 0.3839 - val_mean_squared_error: 0.3839\n",
            "Epoch 31/50\n",
            "3/3 [==============================] - 0s 44ms/step - loss: 0.3772 - mean_squared_error: 0.3772 - val_loss: 0.3778 - val_mean_squared_error: 0.3778\n",
            "Epoch 32/50\n",
            "3/3 [==============================] - 0s 40ms/step - loss: 0.3757 - mean_squared_error: 0.3757 - val_loss: 0.3725 - val_mean_squared_error: 0.3725\n",
            "Epoch 33/50\n",
            "3/3 [==============================] - 0s 40ms/step - loss: 0.3743 - mean_squared_error: 0.3743 - val_loss: 0.3653 - val_mean_squared_error: 0.3653\n",
            "Epoch 34/50\n",
            "3/3 [==============================] - 0s 39ms/step - loss: 0.3732 - mean_squared_error: 0.3732 - val_loss: 0.3584 - val_mean_squared_error: 0.3584\n",
            "Epoch 35/50\n",
            "3/3 [==============================] - 0s 40ms/step - loss: 0.3717 - mean_squared_error: 0.3717 - val_loss: 0.3520 - val_mean_squared_error: 0.3520\n",
            "Epoch 36/50\n",
            "3/3 [==============================] - 0s 41ms/step - loss: 0.3703 - mean_squared_error: 0.3703 - val_loss: 0.3481 - val_mean_squared_error: 0.3481\n",
            "Epoch 37/50\n",
            "3/3 [==============================] - 0s 49ms/step - loss: 0.3690 - mean_squared_error: 0.3690 - val_loss: 0.3457 - val_mean_squared_error: 0.3457\n",
            "Epoch 38/50\n",
            "3/3 [==============================] - 0s 37ms/step - loss: 0.3677 - mean_squared_error: 0.3677 - val_loss: 0.3415 - val_mean_squared_error: 0.3415\n",
            "Epoch 39/50\n",
            "3/3 [==============================] - 0s 37ms/step - loss: 0.3663 - mean_squared_error: 0.3663 - val_loss: 0.3424 - val_mean_squared_error: 0.3424\n",
            "Epoch 40/50\n",
            "3/3 [==============================] - 0s 37ms/step - loss: 0.3650 - mean_squared_error: 0.3650 - val_loss: 0.3402 - val_mean_squared_error: 0.3402\n",
            "Epoch 41/50\n",
            "3/3 [==============================] - 0s 37ms/step - loss: 0.3637 - mean_squared_error: 0.3637 - val_loss: 0.3349 - val_mean_squared_error: 0.3349\n",
            "Epoch 42/50\n",
            "3/3 [==============================] - 0s 37ms/step - loss: 0.3624 - mean_squared_error: 0.3624 - val_loss: 0.3325 - val_mean_squared_error: 0.3325\n",
            "Epoch 43/50\n",
            "3/3 [==============================] - 0s 44ms/step - loss: 0.3612 - mean_squared_error: 0.3612 - val_loss: 0.3309 - val_mean_squared_error: 0.3309\n",
            "Epoch 44/50\n",
            "3/3 [==============================] - 0s 39ms/step - loss: 0.3599 - mean_squared_error: 0.3599 - val_loss: 0.3361 - val_mean_squared_error: 0.3361\n",
            "Epoch 45/50\n",
            "3/3 [==============================] - 0s 36ms/step - loss: 0.3584 - mean_squared_error: 0.3584 - val_loss: 0.3356 - val_mean_squared_error: 0.3356\n",
            "Epoch 46/50\n",
            "3/3 [==============================] - 0s 36ms/step - loss: 0.3573 - mean_squared_error: 0.3573 - val_loss: 0.3374 - val_mean_squared_error: 0.3374\n",
            "Epoch 47/50\n",
            "3/3 [==============================] - 0s 39ms/step - loss: 0.3561 - mean_squared_error: 0.3561 - val_loss: 0.3340 - val_mean_squared_error: 0.3340\n",
            "Epoch 48/50\n",
            "3/3 [==============================] - 0s 40ms/step - loss: 0.3547 - mean_squared_error: 0.3547 - val_loss: 0.3346 - val_mean_squared_error: 0.3346\n",
            "Epoch 49/50\n",
            "3/3 [==============================] - 0s 36ms/step - loss: 0.3532 - mean_squared_error: 0.3532 - val_loss: 0.3173 - val_mean_squared_error: 0.3173\n",
            "Epoch 50/50\n",
            "3/3 [==============================] - 0s 42ms/step - loss: 0.3518 - mean_squared_error: 0.3518 - val_loss: 0.3027 - val_mean_squared_error: 0.3027\n"
          ]
        }
      ]
    },
    {
      "cell_type": "code",
      "source": [
        "wide_window.plot(lstm_model)"
      ],
      "metadata": {
        "colab": {
          "base_uri": "https://localhost:8080/",
          "height": 500
        },
        "id": "dxdJO9XBT83U",
        "outputId": "a49020bd-b644-49a7-9139-31f6fdd2df22"
      },
      "execution_count": null,
      "outputs": [
        {
          "output_type": "display_data",
          "data": {
            "text/plain": [
              "<Figure size 864x576 with 3 Axes>"
            ],
            "image/png": "[encoded data removed]"
          },
          "metadata": {
            "needs_background": "light"
          }
        }
      ]
    },
    {
      "cell_type": "code",
      "source": [
        "val_performance['LSTM'] = lstm_model.evaluate(wide_window.val)\n",
        "performance['LSTM'] = lstm_model.evaluate(wide_window.test, verbose=0)"
      ],
      "metadata": {
        "colab": {
          "base_uri": "https://localhost:8080/"
        },
        "id": "b-Sc3eiiRNoQ",
        "outputId": "045c792d-f7ba-480d-8d8a-a897dd5dfdf6"
      },
      "execution_count": null,
      "outputs": [
        {
          "output_type": "stream",
          "name": "stdout",
          "text": [
            "1/1 [==============================] - 0s 64ms/step - loss: 0.3027 - mean_squared_error: 0.3027\n"
          ]
        }
      ]
    },
    {
      "cell_type": "markdown",
      "source": [
        "# Humidity forecasting"
      ],
      "metadata": {
        "id": "e59veEhzjObV"
      }
    },
    {
      "cell_type": "code",
      "source": [
        "dataset_path = \"hum.csv\"\n",
        "df = pd.read_csv(dataset_path)\n",
        "date_time = pd.to_datetime(df.pop('409151bfa0cc'), format='%Y-%m-%d %H:%M:%S')\n",
        "df.rename(columns={'409151bfa0cc.1':'hum'},inplace=True)"
      ],
      "metadata": {
        "id": "Z7brutlBjTW0"
      },
      "execution_count": 8,
      "outputs": []
    },
    {
      "cell_type": "code",
      "source": [
        "df.head()"
      ],
      "metadata": {
        "id": "2JOyoTlejo3D",
        "outputId": "c5a35410-31f3-4d74-ce33-a74d8e1494cb",
        "colab": {
          "base_uri": "https://localhost:8080/",
          "height": 206
        }
      },
      "execution_count": 9,
      "outputs": [
        {
          "output_type": "execute_result",
          "data": {
            "text/plain": [
              "    hum\n",
              "0  49.9\n",
              "1  49.9\n",
              "2  49.9\n",
              "3  49.8\n",
              "4  49.8"
            ],
            "text/html": [
              "\n",
              "  <div id=\"df-4aefe556-da3e-42e3-a7ab-532d6d827082\">\n",
              "    <div class=\"colab-df-container\">\n",
              "      <div>\n",
              "<style scoped>\n",
              "    .dataframe tbody tr th:only-of-type {\n",
              "        vertical-align: middle;\n",
              "    }\n",
              "\n",
              "    .dataframe tbody tr th {\n",
              "        vertical-align: top;\n",
              "    }\n",
              "\n",
              "    .dataframe thead th {\n",
              "        text-align: right;\n",
              "    }\n",
              "</style>\n",
              "<table border=\"1\" class=\"dataframe\">\n",
              "  <thead>\n",
              "    <tr style=\"text-align: right;\">\n",
              "      <th></th>\n",
              "      <th>hum</th>\n",
              "    </tr>\n",
              "  </thead>\n",
              "  <tbody>\n",
              "    <tr>\n",
              "      <th>0</th>\n",
              "      <td>49.9</td>\n",
              "    </tr>\n",
              "    <tr>\n",
              "      <th>1</th>\n",
              "      <td>49.9</td>\n",
              "    </tr>\n",
              "    <tr>\n",
              "      <th>2</th>\n",
              "      <td>49.9</td>\n",
              "    </tr>\n",
              "    <tr>\n",
              "      <th>3</th>\n",
              "      <td>49.8</td>\n",
              "    </tr>\n",
              "    <tr>\n",
              "      <th>4</th>\n",
              "      <td>49.8</td>\n",
              "    </tr>\n",
              "  </tbody>\n",
              "</table>\n",
              "</div>\n",
              "      <button class=\"colab-df-convert\" onclick=\"convertToInteractive('df-4aefe556-da3e-42e3-a7ab-532d6d827082')\"\n",
              "              title=\"Convert this dataframe to an interactive table.\"\n",
              "              style=\"display:none;\">\n",
              "        \n",
              "  <svg xmlns=\"http://www.w3.org/2000/svg\" height=\"24px\"viewBox=\"0 0 24 24\"\n",
              "       width=\"24px\">\n",
              "    <path d=\"M0 0h24v24H0V0z\" fill=\"none\"/>\n",
              "    <path d=\"M18.56 5.44l.94 2.06.94-2.06 2.06-.94-2.06-.94-.94-2.06-.94 2.06-2.06.94zm-11 1L8.5 8.5l.94-2.06 2.06-.94-2.06-.94L8.5 2.5l-.94 2.06-2.06.94zm10 10l.94 2.06.94-2.06 2.06-.94-2.06-.94-.94-2.06-.94 2.06-2.06.94z\"/><path d=\"M17.41 7.96l-1.37-1.37c-.4-.4-.92-.59-1.43-.59-.52 0-1.04.2-1.43.59L10.3 9.45l-7.72 7.72c-.78.78-.78 2.05 0 2.83L4 21.41c.39.39.9.59 1.41.59.51 0 1.02-.2 1.41-.59l7.78-7.78 2.81-2.81c.8-.78.8-2.07 0-2.86zM5.41 20L4 18.59l7.72-7.72 1.47 1.35L5.41 20z\"/>\n",
              "  </svg>\n",
              "      </button>\n",
              "      \n",
              "  <style>\n",
              "    .colab-df-container {\n",
              "      display:flex;\n",
              "      flex-wrap:wrap;\n",
              "      gap: 12px;\n",
              "    }\n",
              "\n",
              "    .colab-df-convert {\n",
              "      background-color: #E8F0FE;\n",
              "      border: none;\n",
              "      border-radius: 50%;\n",
              "      cursor: pointer;\n",
              "      display: none;\n",
              "      fill: #1967D2;\n",
              "      height: 32px;\n",
              "      padding: 0 0 0 0;\n",
              "      width: 32px;\n",
              "    }\n",
              "\n",
              "    .colab-df-convert:hover {\n",
              "      background-color: #E2EBFA;\n",
              "      box-shadow: 0px 1px 2px rgba(60, 64, 67, 0.3), 0px 1px 3px 1px rgba(60, 64, 67, 0.15);\n",
              "      fill: #174EA6;\n",
              "    }\n",
              "\n",
              "    [theme=dark] .colab-df-convert {\n",
              "      background-color: #3B4455;\n",
              "      fill: #D2E3FC;\n",
              "    }\n",
              "\n",
              "    [theme=dark] .colab-df-convert:hover {\n",
              "      background-color: #434B5C;\n",
              "      box-shadow: 0px 1px 3px 1px rgba(0, 0, 0, 0.15);\n",
              "      filter: drop-shadow(0px 1px 2px rgba(0, 0, 0, 0.3));\n",
              "      fill: #FFFFFF;\n",
              "    }\n",
              "  </style>\n",
              "\n",
              "      <script>\n",
              "        const buttonEl =\n",
              "          document.querySelector('#df-4aefe556-da3e-42e3-a7ab-532d6d827082 button.colab-df-convert');\n",
              "        buttonEl.style.display =\n",
              "          google.colab.kernel.accessAllowed ? 'block' : 'none';\n",
              "\n",
              "        async function convertToInteractive(key) {\n",
              "          const element = document.querySelector('#df-4aefe556-da3e-42e3-a7ab-532d6d827082');\n",
              "          const dataTable =\n",
              "            await google.colab.kernel.invokeFunction('convertToInteractive',\n",
              "                                                     [key], {});\n",
              "          if (!dataTable) return;\n",
              "\n",
              "          const docLinkHtml = 'Like what you see? Visit the ' +\n",
              "            '<a target=\"_blank\" href=https://colab.research.google.com/notebooks/data_table.ipynb>data table notebook</a>'\n",
              "            + ' to learn more about interactive tables.';\n",
              "          element.innerHTML = '';\n",
              "          dataTable['output_type'] = 'display_data';\n",
              "          await google.colab.output.renderOutput(dataTable, element);\n",
              "          const docLink = document.createElement('div');\n",
              "          docLink.innerHTML = docLinkHtml;\n",
              "          element.appendChild(docLink);\n",
              "        }\n",
              "      </script>\n",
              "    </div>\n",
              "  </div>\n",
              "  "
            ]
          },
          "metadata": {},
          "execution_count": 9
        }
      ]
    },
    {
      "cell_type": "code",
      "source": [
        "#evolution over time of our data\n",
        "plot_cols = ['hum']\n",
        "plot_features = df[plot_cols]\n",
        "plot_features.index = date_time\n",
        "_ = plot_features.plot(subplots=True)"
      ],
      "metadata": {
        "id": "R5Sab0s4jvhG",
        "outputId": "a68b1b03-32a0-49fd-c3df-4e7707928089",
        "colab": {
          "base_uri": "https://localhost:8080/",
          "height": 279
        }
      },
      "execution_count": 10,
      "outputs": [
        {
          "output_type": "display_data",
          "data": {
            "text/plain": [
              "<Figure size 432x288 with 1 Axes>"
            ],
            "image/png": "[encoded data removed]"
          },
          "metadata": {
            "needs_background": "light"
          }
        }
      ]
    },
    {
      "cell_type": "code",
      "source": [
        "df.describe().transpose()"
      ],
      "metadata": {
        "id": "T3nCkjW0jzGD",
        "outputId": "d389e1ae-27cd-4bc7-ad10-7451deee055a",
        "colab": {
          "base_uri": "https://localhost:8080/",
          "height": 81
        }
      },
      "execution_count": 11,
      "outputs": [
        {
          "output_type": "execute_result",
          "data": {
            "text/plain": [
              "     count       mean       std   min     25%    50%     75%   max\n",
              "hum  118.0  47.049153  1.572344  45.2  45.825  46.45  48.425  50.0"
            ],
            "text/html": [
              "\n",
              "  <div id=\"df-2a7a6dda-d8ae-4e4c-83dc-fd2b1b4f2560\">\n",
              "    <div class=\"colab-df-container\">\n",
              "      <div>\n",
              "<style scoped>\n",
              "    .dataframe tbody tr th:only-of-type {\n",
              "        vertical-align: middle;\n",
              "    }\n",
              "\n",
              "    .dataframe tbody tr th {\n",
              "        vertical-align: top;\n",
              "    }\n",
              "\n",
              "    .dataframe thead th {\n",
              "        text-align: right;\n",
              "    }\n",
              "</style>\n",
              "<table border=\"1\" class=\"dataframe\">\n",
              "  <thead>\n",
              "    <tr style=\"text-align: right;\">\n",
              "      <th></th>\n",
              "      <th>count</th>\n",
              "      <th>mean</th>\n",
              "      <th>std</th>\n",
              "      <th>min</th>\n",
              "      <th>25%</th>\n",
              "      <th>50%</th>\n",
              "      <th>75%</th>\n",
              "      <th>max</th>\n",
              "    </tr>\n",
              "  </thead>\n",
              "  <tbody>\n",
              "    <tr>\n",
              "      <th>hum</th>\n",
              "      <td>118.0</td>\n",
              "      <td>47.049153</td>\n",
              "      <td>1.572344</td>\n",
              "      <td>45.2</td>\n",
              "      <td>45.825</td>\n",
              "      <td>46.45</td>\n",
              "      <td>48.425</td>\n",
              "      <td>50.0</td>\n",
              "    </tr>\n",
              "  </tbody>\n",
              "</table>\n",
              "</div>\n",
              "      <button class=\"colab-df-convert\" onclick=\"convertToInteractive('df-2a7a6dda-d8ae-4e4c-83dc-fd2b1b4f2560')\"\n",
              "              title=\"Convert this dataframe to an interactive table.\"\n",
              "              style=\"display:none;\">\n",
              "        \n",
              "  <svg xmlns=\"http://www.w3.org/2000/svg\" height=\"24px\"viewBox=\"0 0 24 24\"\n",
              "       width=\"24px\">\n",
              "    <path d=\"M0 0h24v24H0V0z\" fill=\"none\"/>\n",
              "    <path d=\"M18.56 5.44l.94 2.06.94-2.06 2.06-.94-2.06-.94-.94-2.06-.94 2.06-2.06.94zm-11 1L8.5 8.5l.94-2.06 2.06-.94-2.06-.94L8.5 2.5l-.94 2.06-2.06.94zm10 10l.94 2.06.94-2.06 2.06-.94-2.06-.94-.94-2.06-.94 2.06-2.06.94z\"/><path d=\"M17.41 7.96l-1.37-1.37c-.4-.4-.92-.59-1.43-.59-.52 0-1.04.2-1.43.59L10.3 9.45l-7.72 7.72c-.78.78-.78 2.05 0 2.83L4 21.41c.39.39.9.59 1.41.59.51 0 1.02-.2 1.41-.59l7.78-7.78 2.81-2.81c.8-.78.8-2.07 0-2.86zM5.41 20L4 18.59l7.72-7.72 1.47 1.35L5.41 20z\"/>\n",
              "  </svg>\n",
              "      </button>\n",
              "      \n",
              "  <style>\n",
              "    .colab-df-container {\n",
              "      display:flex;\n",
              "      flex-wrap:wrap;\n",
              "      gap: 12px;\n",
              "    }\n",
              "\n",
              "    .colab-df-convert {\n",
              "      background-color: #E8F0FE;\n",
              "      border: none;\n",
              "      border-radius: 50%;\n",
              "      cursor: pointer;\n",
              "      display: none;\n",
              "      fill: #1967D2;\n",
              "      height: 32px;\n",
              "      padding: 0 0 0 0;\n",
              "      width: 32px;\n",
              "    }\n",
              "\n",
              "    .colab-df-convert:hover {\n",
              "      background-color: #E2EBFA;\n",
              "      box-shadow: 0px 1px 2px rgba(60, 64, 67, 0.3), 0px 1px 3px 1px rgba(60, 64, 67, 0.15);\n",
              "      fill: #174EA6;\n",
              "    }\n",
              "\n",
              "    [theme=dark] .colab-df-convert {\n",
              "      background-color: #3B4455;\n",
              "      fill: #D2E3FC;\n",
              "    }\n",
              "\n",
              "    [theme=dark] .colab-df-convert:hover {\n",
              "      background-color: #434B5C;\n",
              "      box-shadow: 0px 1px 3px 1px rgba(0, 0, 0, 0.15);\n",
              "      filter: drop-shadow(0px 1px 2px rgba(0, 0, 0, 0.3));\n",
              "      fill: #FFFFFF;\n",
              "    }\n",
              "  </style>\n",
              "\n",
              "      <script>\n",
              "        const buttonEl =\n",
              "          document.querySelector('#df-2a7a6dda-d8ae-4e4c-83dc-fd2b1b4f2560 button.colab-df-convert');\n",
              "        buttonEl.style.display =\n",
              "          google.colab.kernel.accessAllowed ? 'block' : 'none';\n",
              "\n",
              "        async function convertToInteractive(key) {\n",
              "          const element = document.querySelector('#df-2a7a6dda-d8ae-4e4c-83dc-fd2b1b4f2560');\n",
              "          const dataTable =\n",
              "            await google.colab.kernel.invokeFunction('convertToInteractive',\n",
              "                                                     [key], {});\n",
              "          if (!dataTable) return;\n",
              "\n",
              "          const docLinkHtml = 'Like what you see? Visit the ' +\n",
              "            '<a target=\"_blank\" href=https://colab.research.google.com/notebooks/data_table.ipynb>data table notebook</a>'\n",
              "            + ' to learn more about interactive tables.';\n",
              "          element.innerHTML = '';\n",
              "          dataTable['output_type'] = 'display_data';\n",
              "          await google.colab.output.renderOutput(dataTable, element);\n",
              "          const docLink = document.createElement('div');\n",
              "          docLink.innerHTML = docLinkHtml;\n",
              "          element.appendChild(docLink);\n",
              "        }\n",
              "      </script>\n",
              "    </div>\n",
              "  </div>\n",
              "  "
            ]
          },
          "metadata": {},
          "execution_count": 11
        }
      ]
    },
    {
      "cell_type": "code",
      "source": [
        ""
      ],
      "metadata": {
        "id": "Mri5VZ0vj4eE"
      },
      "execution_count": null,
      "outputs": []
    },
    {
      "cell_type": "code",
      "source": [
        "#converting timestamps form string to seconds\n",
        "timestamp_s = date_time.map(pd.Timestamp.timestamp)"
      ],
      "metadata": {
        "id": "ZsoUoTTQj_8Y"
      },
      "execution_count": 12,
      "outputs": []
    },
    {
      "cell_type": "code",
      "source": [
        "#how may seconds per day and year reported in sin and cos to obtain periodicity\n",
        "day = 24*60*60\n",
        "year = (365.2425)*day\n",
        "\n",
        "df['Day sin'] = np.sin(timestamp_s * (2 * np.pi / day))\n",
        "df['Day cos'] = np.cos(timestamp_s * (2 * np.pi / day))\n",
        "df['Year sin'] = np.sin(timestamp_s * (2 * np.pi / year))\n",
        "df['Year cos'] = np.cos(timestamp_s * (2 * np.pi / year))"
      ],
      "metadata": {
        "id": "tmjhVpmFkJsK"
      },
      "execution_count": 13,
      "outputs": []
    },
    {
      "cell_type": "code",
      "source": [
        "#splitting the dataset in training validating and testing set\n",
        "\n",
        "column_indices = {name: i for i, name in enumerate(df.columns)}\n",
        "\n",
        "n = len(df)\n",
        "train_df = df[0:int(n*0.7)]\n",
        "val_df = df[int(n*0.7):int(n*0.9)]\n",
        "test_df = df[int(n*0.9):]\n",
        "\n",
        "num_features = df.shape[1]"
      ],
      "metadata": {
        "id": "MdScfGCakkAz"
      },
      "execution_count": 14,
      "outputs": []
    },
    {
      "cell_type": "code",
      "source": [
        "#data normalization\n",
        "train_mean = train_df.mean()\n",
        "train_std = train_df.std()\n",
        "\n",
        "train_df = (train_df - train_mean) / train_std\n",
        "val_df = (val_df - train_mean) / train_std\n",
        "test_df = (test_df - train_mean) / train_std"
      ],
      "metadata": {
        "id": "4JtkVcTJku8B"
      },
      "execution_count": 15,
      "outputs": []
    },
    {
      "cell_type": "code",
      "source": [
        "df_std = (df - train_mean) / train_std\n",
        "df_std = df_std.melt(var_name='Column', value_name='Normalized')\n",
        "plt.figure(figsize=(12, 6))\n",
        "ax = sns.violinplot(x='Column', y='Normalized', data=df_std)\n",
        "_ = ax.set_xticklabels(df.keys(), rotation=90)"
      ],
      "metadata": {
        "colab": {
          "base_uri": "https://localhost:8080/",
          "height": 419
        },
        "outputId": "86ea370f-09ea-4f54-936e-8ae6f2092193",
        "id": "8wdU4DQok1Ej"
      },
      "execution_count": 16,
      "outputs": [
        {
          "output_type": "display_data",
          "data": {
            "text/plain": [
              "<Figure size 864x432 with 1 Axes>"
            ],
            "image/png": "[encoded data removed]"
          },
          "metadata": {
            "needs_background": "light"
          }
        }
      ]
    },
    {
      "cell_type": "code",
      "source": [
        "wide_window = WindowGenerator(\n",
        "    input_width=6, label_width=6, shift=1,\n",
        "    label_columns=['hum'])\n",
        "\n",
        "wide_window"
      ],
      "metadata": {
        "colab": {
          "base_uri": "https://localhost:8080/"
        },
        "outputId": "05db6919-d90b-48b1-bea1-51edac8b7f01",
        "id": "xAbsKxiRljPC"
      },
      "execution_count": 30,
      "outputs": [
        {
          "output_type": "execute_result",
          "data": {
            "text/plain": [
              "Total window size: 7\n",
              "Input indices: [0 1 2 3 4 5]\n",
              "Label indices: [1 2 3 4 5 6]\n",
              "Label column name(s): ['hum']"
            ]
          },
          "metadata": {},
          "execution_count": 30
        }
      ]
    },
    {
      "cell_type": "code",
      "source": [
        "lstm_model = tf.keras.models.Sequential([\n",
        "    # Shape [batch, time, features] => [batch, time, lstm_units]\n",
        "    tf.keras.layers.LSTM(32, return_sequences=True),\n",
        "    # Shape => [batch, time, features]\n",
        "    tf.keras.layers.Dense(units=1)\n",
        "])"
      ],
      "metadata": {
        "id": "lFEoOD57l6lz"
      },
      "execution_count": 31,
      "outputs": []
    },
    {
      "cell_type": "code",
      "source": [
        "history = compile_and_fit(lstm_model, wide_window)\n",
        "\n",
        "#IPython.display.clear_output()\n",
        "#val_performance['LSTM'] = lstm_model.evaluate(wide_window.val)\n",
        "#performance['LSTM'] = lstm_model.evaluate(wide_window.test, verbose=0)"
      ],
      "metadata": {
        "colab": {
          "base_uri": "https://localhost:8080/"
        },
        "outputId": "97212582-1a0e-4047-a9ae-c74c5833a4b5",
        "id": "UmqKsavmmAQr"
      },
      "execution_count": 32,
      "outputs": [
        {
          "output_type": "stream",
          "name": "stdout",
          "text": [
            "Epoch 1/50\n",
            "3/3 [==============================] - 4s 302ms/step - loss: 0.6311 - mean_squared_error: 0.6311 - val_loss: 0.1978 - val_mean_squared_error: 0.1978\n",
            "Epoch 2/50\n",
            "3/3 [==============================] - 0s 38ms/step - loss: 0.5254 - mean_squared_error: 0.5254 - val_loss: 0.1352 - val_mean_squared_error: 0.1352\n",
            "Epoch 3/50\n",
            "3/3 [==============================] - 0s 39ms/step - loss: 0.4378 - mean_squared_error: 0.4378 - val_loss: 0.1136 - val_mean_squared_error: 0.1136\n",
            "Epoch 4/50\n",
            "3/3 [==============================] - 0s 42ms/step - loss: 0.3655 - mean_squared_error: 0.3655 - val_loss: 0.1228 - val_mean_squared_error: 0.1228\n",
            "Epoch 5/50\n",
            "3/3 [==============================] - 0s 38ms/step - loss: 0.3098 - mean_squared_error: 0.3098 - val_loss: 0.1568 - val_mean_squared_error: 0.1568\n",
            "Epoch 6/50\n",
            "3/3 [==============================] - 0s 36ms/step - loss: 0.2669 - mean_squared_error: 0.2669 - val_loss: 0.2094 - val_mean_squared_error: 0.2094\n",
            "Epoch 7/50\n",
            "3/3 [==============================] - 0s 39ms/step - loss: 0.2415 - mean_squared_error: 0.2415 - val_loss: 0.2710 - val_mean_squared_error: 0.2710\n",
            "Epoch 8/50\n",
            "3/3 [==============================] - 0s 42ms/step - loss: 0.2241 - mean_squared_error: 0.2241 - val_loss: 0.3336 - val_mean_squared_error: 0.3336\n",
            "Epoch 9/50\n",
            "3/3 [==============================] - 0s 39ms/step - loss: 0.2191 - mean_squared_error: 0.2191 - val_loss: 0.3889 - val_mean_squared_error: 0.3889\n",
            "Epoch 10/50\n",
            "3/3 [==============================] - 0s 37ms/step - loss: 0.2133 - mean_squared_error: 0.2133 - val_loss: 0.4308 - val_mean_squared_error: 0.4308\n",
            "Epoch 11/50\n",
            "3/3 [==============================] - 0s 46ms/step - loss: 0.2092 - mean_squared_error: 0.2092 - val_loss: 0.4504 - val_mean_squared_error: 0.4504\n",
            "Epoch 12/50\n",
            "3/3 [==============================] - 0s 37ms/step - loss: 0.2040 - mean_squared_error: 0.2040 - val_loss: 0.4491 - val_mean_squared_error: 0.4491\n",
            "Epoch 13/50\n",
            "3/3 [==============================] - 0s 41ms/step - loss: 0.1975 - mean_squared_error: 0.1975 - val_loss: 0.4325 - val_mean_squared_error: 0.4325\n",
            "Epoch 14/50\n",
            "3/3 [==============================] - 0s 41ms/step - loss: 0.1914 - mean_squared_error: 0.1914 - val_loss: 0.4037 - val_mean_squared_error: 0.4037\n",
            "Epoch 15/50\n",
            "3/3 [==============================] - 0s 35ms/step - loss: 0.1853 - mean_squared_error: 0.1853 - val_loss: 0.3758 - val_mean_squared_error: 0.3758\n",
            "Epoch 16/50\n",
            "3/3 [==============================] - 0s 41ms/step - loss: 0.1798 - mean_squared_error: 0.1798 - val_loss: 0.3353 - val_mean_squared_error: 0.3353\n",
            "Epoch 17/50\n",
            "3/3 [==============================] - 0s 41ms/step - loss: 0.1744 - mean_squared_error: 0.1744 - val_loss: 0.2927 - val_mean_squared_error: 0.2927\n",
            "Epoch 18/50\n",
            "3/3 [==============================] - 0s 36ms/step - loss: 0.1696 - mean_squared_error: 0.1696 - val_loss: 0.2561 - val_mean_squared_error: 0.2561\n",
            "Epoch 19/50\n",
            "3/3 [==============================] - 0s 36ms/step - loss: 0.1653 - mean_squared_error: 0.1653 - val_loss: 0.2253 - val_mean_squared_error: 0.2253\n",
            "Epoch 20/50\n",
            "3/3 [==============================] - 0s 37ms/step - loss: 0.1612 - mean_squared_error: 0.1612 - val_loss: 0.1989 - val_mean_squared_error: 0.1989\n",
            "Epoch 21/50\n",
            "3/3 [==============================] - 0s 36ms/step - loss: 0.1572 - mean_squared_error: 0.1572 - val_loss: 0.1803 - val_mean_squared_error: 0.1803\n",
            "Epoch 22/50\n",
            "3/3 [==============================] - 0s 37ms/step - loss: 0.1533 - mean_squared_error: 0.1533 - val_loss: 0.1661 - val_mean_squared_error: 0.1661\n",
            "Epoch 23/50\n",
            "3/3 [==============================] - 0s 39ms/step - loss: 0.1493 - mean_squared_error: 0.1493 - val_loss: 0.1541 - val_mean_squared_error: 0.1541\n",
            "Epoch 24/50\n",
            "3/3 [==============================] - 0s 44ms/step - loss: 0.1455 - mean_squared_error: 0.1455 - val_loss: 0.1456 - val_mean_squared_error: 0.1456\n",
            "Epoch 25/50\n",
            "3/3 [==============================] - 0s 43ms/step - loss: 0.1419 - mean_squared_error: 0.1419 - val_loss: 0.1389 - val_mean_squared_error: 0.1389\n",
            "Epoch 26/50\n",
            "3/3 [==============================] - 0s 39ms/step - loss: 0.1381 - mean_squared_error: 0.1381 - val_loss: 0.1355 - val_mean_squared_error: 0.1355\n",
            "Epoch 27/50\n",
            "3/3 [==============================] - 0s 37ms/step - loss: 0.1346 - mean_squared_error: 0.1346 - val_loss: 0.1332 - val_mean_squared_error: 0.1332\n",
            "Epoch 28/50\n",
            "3/3 [==============================] - 0s 36ms/step - loss: 0.1313 - mean_squared_error: 0.1313 - val_loss: 0.1332 - val_mean_squared_error: 0.1332\n",
            "Epoch 29/50\n",
            "3/3 [==============================] - 0s 39ms/step - loss: 0.1276 - mean_squared_error: 0.1276 - val_loss: 0.1343 - val_mean_squared_error: 0.1343\n",
            "Epoch 30/50\n",
            "3/3 [==============================] - 0s 38ms/step - loss: 0.1239 - mean_squared_error: 0.1239 - val_loss: 0.1345 - val_mean_squared_error: 0.1345\n",
            "Epoch 31/50\n",
            "3/3 [==============================] - 0s 42ms/step - loss: 0.1204 - mean_squared_error: 0.1204 - val_loss: 0.1340 - val_mean_squared_error: 0.1340\n",
            "Epoch 32/50\n",
            "3/3 [==============================] - 0s 38ms/step - loss: 0.1170 - mean_squared_error: 0.1170 - val_loss: 0.1310 - val_mean_squared_error: 0.1310\n",
            "Epoch 33/50\n",
            "3/3 [==============================] - 0s 36ms/step - loss: 0.1140 - mean_squared_error: 0.1140 - val_loss: 0.1271 - val_mean_squared_error: 0.1271\n",
            "Epoch 34/50\n",
            "3/3 [==============================] - 0s 35ms/step - loss: 0.1109 - mean_squared_error: 0.1109 - val_loss: 0.1220 - val_mean_squared_error: 0.1220\n",
            "Epoch 35/50\n",
            "3/3 [==============================] - 0s 37ms/step - loss: 0.1080 - mean_squared_error: 0.1080 - val_loss: 0.1159 - val_mean_squared_error: 0.1159\n",
            "Epoch 36/50\n",
            "3/3 [==============================] - 0s 38ms/step - loss: 0.1051 - mean_squared_error: 0.1051 - val_loss: 0.1097 - val_mean_squared_error: 0.1097\n",
            "Epoch 37/50\n",
            "3/3 [==============================] - 0s 41ms/step - loss: 0.1023 - mean_squared_error: 0.1023 - val_loss: 0.1030 - val_mean_squared_error: 0.1030\n",
            "Epoch 38/50\n",
            "3/3 [==============================] - 0s 42ms/step - loss: 0.0996 - mean_squared_error: 0.0996 - val_loss: 0.0965 - val_mean_squared_error: 0.0965\n",
            "Epoch 39/50\n",
            "3/3 [==============================] - 0s 48ms/step - loss: 0.0972 - mean_squared_error: 0.0972 - val_loss: 0.0915 - val_mean_squared_error: 0.0915\n",
            "Epoch 40/50\n",
            "3/3 [==============================] - 0s 37ms/step - loss: 0.0952 - mean_squared_error: 0.0952 - val_loss: 0.0886 - val_mean_squared_error: 0.0886\n",
            "Epoch 41/50\n",
            "3/3 [==============================] - 0s 46ms/step - loss: 0.0930 - mean_squared_error: 0.0930 - val_loss: 0.0871 - val_mean_squared_error: 0.0871\n",
            "Epoch 42/50\n",
            "3/3 [==============================] - 0s 41ms/step - loss: 0.0910 - mean_squared_error: 0.0910 - val_loss: 0.0872 - val_mean_squared_error: 0.0872\n",
            "Epoch 43/50\n",
            "3/3 [==============================] - 0s 39ms/step - loss: 0.0890 - mean_squared_error: 0.0890 - val_loss: 0.0883 - val_mean_squared_error: 0.0883\n",
            "Epoch 44/50\n",
            "3/3 [==============================] - 0s 41ms/step - loss: 0.0871 - mean_squared_error: 0.0871 - val_loss: 0.0892 - val_mean_squared_error: 0.0892\n",
            "Epoch 45/50\n",
            "3/3 [==============================] - 0s 39ms/step - loss: 0.0854 - mean_squared_error: 0.0854 - val_loss: 0.0904 - val_mean_squared_error: 0.0904\n",
            "Epoch 46/50\n",
            "3/3 [==============================] - 0s 38ms/step - loss: 0.0837 - mean_squared_error: 0.0837 - val_loss: 0.0930 - val_mean_squared_error: 0.0930\n",
            "Epoch 47/50\n",
            "3/3 [==============================] - 0s 40ms/step - loss: 0.0820 - mean_squared_error: 0.0820 - val_loss: 0.0963 - val_mean_squared_error: 0.0963\n",
            "Epoch 48/50\n",
            "3/3 [==============================] - 0s 42ms/step - loss: 0.0805 - mean_squared_error: 0.0805 - val_loss: 0.0989 - val_mean_squared_error: 0.0989\n",
            "Epoch 49/50\n",
            "3/3 [==============================] - 0s 38ms/step - loss: 0.0789 - mean_squared_error: 0.0789 - val_loss: 0.1025 - val_mean_squared_error: 0.1025\n",
            "Epoch 50/50\n",
            "3/3 [==============================] - 0s 39ms/step - loss: 0.0776 - mean_squared_error: 0.0776 - val_loss: 0.1056 - val_mean_squared_error: 0.1056\n"
          ]
        }
      ]
    },
    {
      "cell_type": "code",
      "source": [
        "wide_window.plot(lstm_model,plot_col='hum')"
      ],
      "metadata": {
        "colab": {
          "base_uri": "https://localhost:8080/",
          "height": 497
        },
        "outputId": "3013305c-3dcf-442f-f93f-c5dca628dd7a",
        "id": "ANf5ZKVrmI0v"
      },
      "execution_count": 34,
      "outputs": [
        {
          "output_type": "display_data",
          "data": {
            "text/plain": [
              "<Figure size 864x576 with 3 Axes>"
            ],
            "image/png": "[encoded data removed]"
          },
          "metadata": {
            "needs_background": "light"
          }
        }
      ]
    },
    {
      "cell_type": "code",
      "source": [
        "lstm_model.evaluate(wide_window.val)\n",
        "lstm_model.evaluate(wide_window.test, verbose=1)"
      ],
      "metadata": {
        "id": "XUW905dQknpV",
        "outputId": "87e012da-311d-4d13-9584-d066f590aacc",
        "colab": {
          "base_uri": "https://localhost:8080/"
        }
      },
      "execution_count": 43,
      "outputs": [
        {
          "output_type": "stream",
          "name": "stdout",
          "text": [
            "1/1 [==============================] - 0s 103ms/step - loss: 0.1056 - mean_squared_error: 0.1056\n",
            "1/1 [==============================] - 0s 137ms/step - loss: 0.1862 - mean_squared_error: 0.1862\n"
          ]
        },
        {
          "output_type": "execute_result",
          "data": {
            "text/plain": [
              "[0.18620532751083374, 0.18620532751083374]"
            ]
          },
          "metadata": {},
          "execution_count": 43
        }
      ]
    }
  ],
  "metadata": {
    "interpreter": {
      "hash": "6ab6f325c139420c901eb2a338a56d1814c8c09a35ae652d680ca2cefe53e16a"
    },
    "kernelspec": {
      "display_name": "Python 3.7.6 ('base')",
      "language": "python",
      "name": "python3"
    },
    "language_info": {
      "codemirror_mode": {
        "name": "ipython",
        "version": 3
      },
      "file_extension": ".py",
      "mimetype": "text/x-python",
      "name": "python",
      "nbconvert_exporter": "python",
      "pygments_lexer": "ipython3",
      "version": "3.7.6"
    },
    "orig_nbformat": 4,
    "colab": {
      "name": "forecasting.ipynb",
      "provenance": [],
      "collapsed_sections": [],
      "include_colab_link": true
    }
  },
  "nbformat": 4,
  "nbformat_minor": 0
}